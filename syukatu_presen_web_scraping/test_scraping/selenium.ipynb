{
 "cells": [
  {
   "cell_type": "code",
   "execution_count": 1,
   "id": "342c077e-3963-463d-9086-4314ee07bd9f",
   "metadata": {},
   "outputs": [
    {
     "name": "stdout",
     "output_type": "stream",
     "text": [
      "Requirement already satisfied: selenium in /Users/genisshou/opt/anaconda3/lib/python3.9/site-packages (4.1.0)\n",
      "Requirement already satisfied: trio-websocket~=0.9 in /Users/genisshou/opt/anaconda3/lib/python3.9/site-packages (from selenium) (0.9.2)\n",
      "Requirement already satisfied: urllib3[secure]~=1.26 in /Users/genisshou/opt/anaconda3/lib/python3.9/site-packages (from selenium) (1.26.7)\n",
      "Requirement already satisfied: trio~=0.17 in /Users/genisshou/opt/anaconda3/lib/python3.9/site-packages (from selenium) (0.19.0)\n",
      "Requirement already satisfied: sortedcontainers in /Users/genisshou/opt/anaconda3/lib/python3.9/site-packages (from trio~=0.17->selenium) (2.4.0)\n",
      "Requirement already satisfied: idna in /Users/genisshou/opt/anaconda3/lib/python3.9/site-packages (from trio~=0.17->selenium) (3.2)\n",
      "Requirement already satisfied: attrs>=19.2.0 in /Users/genisshou/opt/anaconda3/lib/python3.9/site-packages (from trio~=0.17->selenium) (21.2.0)\n",
      "Requirement already satisfied: outcome in /Users/genisshou/opt/anaconda3/lib/python3.9/site-packages (from trio~=0.17->selenium) (1.1.0)\n",
      "Requirement already satisfied: async-generator>=1.9 in /Users/genisshou/opt/anaconda3/lib/python3.9/site-packages (from trio~=0.17->selenium) (1.10)\n",
      "Requirement already satisfied: sniffio in /Users/genisshou/opt/anaconda3/lib/python3.9/site-packages (from trio~=0.17->selenium) (1.2.0)\n",
      "Requirement already satisfied: wsproto>=0.14 in /Users/genisshou/opt/anaconda3/lib/python3.9/site-packages (from trio-websocket~=0.9->selenium) (1.0.0)\n",
      "Requirement already satisfied: pyOpenSSL>=0.14 in /Users/genisshou/opt/anaconda3/lib/python3.9/site-packages (from urllib3[secure]~=1.26->selenium) (21.0.0)\n",
      "Requirement already satisfied: cryptography>=1.3.4 in /Users/genisshou/opt/anaconda3/lib/python3.9/site-packages (from urllib3[secure]~=1.26->selenium) (3.4.8)\n",
      "Requirement already satisfied: certifi in /Users/genisshou/opt/anaconda3/lib/python3.9/site-packages (from urllib3[secure]~=1.26->selenium) (2021.10.8)\n",
      "Requirement already satisfied: cffi>=1.12 in /Users/genisshou/opt/anaconda3/lib/python3.9/site-packages (from cryptography>=1.3.4->urllib3[secure]~=1.26->selenium) (1.14.6)\n",
      "Requirement already satisfied: pycparser in /Users/genisshou/opt/anaconda3/lib/python3.9/site-packages (from cffi>=1.12->cryptography>=1.3.4->urllib3[secure]~=1.26->selenium) (2.20)\n",
      "Requirement already satisfied: six>=1.5.2 in /Users/genisshou/opt/anaconda3/lib/python3.9/site-packages (from pyOpenSSL>=0.14->urllib3[secure]~=1.26->selenium) (1.16.0)\n",
      "Requirement already satisfied: h11<1,>=0.9.0 in /Users/genisshou/opt/anaconda3/lib/python3.9/site-packages (from wsproto>=0.14->trio-websocket~=0.9->selenium) (0.12.0)\n"
     ]
    }
   ],
   "source": [
    "!pip install selenium"
   ]
  },
  {
   "cell_type": "code",
   "execution_count": 2,
   "id": "c03f099d-040b-41af-a460-382b23a43bb1",
   "metadata": {},
   "outputs": [
    {
     "name": "stdout",
     "output_type": "stream",
     "text": [
      "Running `brew update --preinstall`...\n",
      "\u001b[34m==>\u001b[0m \u001b[1mAuto-updated Homebrew!\u001b[0m\n",
      "Updated 3 taps (homebrew/core, homebrew/cask and homebrew/services).\n",
      "\u001b[34m==>\u001b[0m \u001b[1mNew Formulae\u001b[0m\n",
      "aarch64-elf-binutils       jless                      ruby@3.0\n",
      "aarch64-elf-gcc            kdoctor                    sdl12-compat\n",
      "alpscore                   koka                       spago\n",
      "aws-auth                   kopia                      spidermonkey@78\n",
      "bk                         kubekey                    sshs\n",
      "bkt                        kubescape                  stylish-haskell\n",
      "boost@1.76                 kyverno                    tagref\n",
      "brev                       librasterlite2             tarlz\n",
      "bvm                        linux-headers@5.16         terraform-lsp\n",
      "checkmake                  litani                     testkube\n",
      "cloudflared                ltex-ls                    textidote\n",
      "csview                     mapproxy                   trivy\n",
      "dpp                        mu-repo                    trzsz\n",
      "dsq                        nickel                     uutils-findutils\n",
      "dynaconf                   numdiff                    vkectl\n",
      "epinio                     observerward               webp-pixbuf-loader\n",
      "fb303                      oh-my-posh                 websocketpp\n",
      "fortran-language-server    opendht                    wordle\n",
      "fourmolu                   postgraphile               xidel\n",
      "gemgen                     procyon-decompiler         xkcd\n",
      "go@1.17                    quick-lint-js              yamale\n",
      "gst-plugins-rs             rospo\n",
      "\u001b[34m==>\u001b[0m \u001b[1mUpdated Formulae\u001b[0m\n",
      "Updated 1581 formulae.\n",
      "\u001b[34m==>\u001b[0m \u001b[1mRenamed Formulae\u001b[0m\n",
      "richmd -> rich-cli\n",
      "\u001b[34m==>\u001b[0m \u001b[1mDeleted Formulae\u001b[0m\n",
      "advancemenu     go@1.10         go@1.12         gstreamermm     path-extractor\n",
      "carina          go@1.11         go@1.9          hornetq         pdflib-lite\n",
      "\u001b[34m==>\u001b[0m \u001b[1mNew Casks\u001b[0m\n",
      "abbyy-finereader-pdf                     mysteriumvpn\n",
      "alpha                                    openshift-client\n",
      "devtoys                                  paddle-easydl\n",
      "eliot                                    paragon-camptune\n",
      "flycast                                  pingnoo\n",
      "gcc-aarch64-embedded                     playdate-simulator\n",
      "hackolade                                poker-copilot\n",
      "hepta                                    prowlarr\n",
      "heroic                                   quit-all\n",
      "hostsx                                   roonbridge\n",
      "imagex                                   rwts-pdfwriter\n",
      "iptvnator                                supernotes\n",
      "jetbrains-gateway                        thinlinc-client\n",
      "libcblite                                threema-work\n",
      "libcblite-community                      trex\n",
      "macast                                   ujam\n",
      "manyverse                                write\n",
      "mediahuman-audio-converter               xemu\n",
      "\u001b[34m==>\u001b[0m \u001b[1mUpdated Casks\u001b[0m\n",
      "Updated 1046 casks.\n",
      "\u001b[34m==>\u001b[0m \u001b[1mDeleted Casks\u001b[0m\n",
      "bitshares           finisher-voodoo     macfusion           profilemanager\n",
      "dusty               hoststool           now                 raiderio\n",
      "edenmath            jiohome             optimal-layout      red\n",
      "eggplant            knox                password-assistant\n",
      "finereader          lilypond            pd-runner\n",
      "\n",
      "\u001b[34m==>\u001b[0m \u001b[1mDownloading https://chromedriver.storage.googleapis.com/99.0.4844.51/chromed\u001b[0m\n",
      "######################################################################## 100.0%\n",
      "\u001b[32m==>\u001b[0m \u001b[1mInstalling Cask \u001b[32mchromedriver\u001b[39m\u001b[0m\n",
      "\u001b[34m==>\u001b[0m \u001b[1mLinking Binary 'chromedriver' to '/opt/homebrew/bin/chromedriver'\u001b[0m\n",
      "🍺  chromedriver was successfully installed!\n"
     ]
    }
   ],
   "source": [
    "!brew tap homebrew/cask\n",
    "!brew install chromedriver"
   ]
  },
  {
   "cell_type": "code",
   "execution_count": 21,
   "id": "5a268457-1d9a-430a-8732-afe42b989c11",
   "metadata": {},
   "outputs": [],
   "source": [
    "from selenium import webdriver\n",
    "from selenium.webdriver.chrome.options import Options\n",
    "import KOBO_URL\n",
    "import time"
   ]
  },
  {
   "cell_type": "code",
   "execution_count": 22,
   "id": "ecc2c9d3-979f-435e-a694-92aa8cd18e25",
   "metadata": {},
   "outputs": [
    {
     "name": "stderr",
     "output_type": "stream",
     "text": [
      "/var/folders/sm/cxsqyhg95x34kj03xss1t3mh0000gn/T/ipykernel_44665/70876314.py:6: DeprecationWarning: find_element_by_* commands are deprecated. Please use find_element() instead\n",
      "  webdriver.find_element_by_xpath('//*[@id=\"id_username\"]').send_keys(KOBO_URL.DJANGO_UN)\n",
      "/var/folders/sm/cxsqyhg95x34kj03xss1t3mh0000gn/T/ipykernel_44665/70876314.py:7: DeprecationWarning: find_element_by_* commands are deprecated. Please use find_element() instead\n",
      "  webdriver.find_element_by_xpath('//*[@id=\"id_password\"]').send_keys(KOBO_URL.DJANGO_PW)\n",
      "/var/folders/sm/cxsqyhg95x34kj03xss1t3mh0000gn/T/ipykernel_44665/70876314.py:8: DeprecationWarning: find_element_by_* commands are deprecated. Please use find_element() instead\n",
      "  webdriver.find_element_by_xpath('//*[@id=\"login-form\"]/div[3]/input').click()\n",
      "/var/folders/sm/cxsqyhg95x34kj03xss1t3mh0000gn/T/ipykernel_44665/70876314.py:12: DeprecationWarning: find_element_by_* commands are deprecated. Please use find_element() instead\n",
      "  webdriver.find_element_by_xpath('//*[@id=\"content-main\"]/div[2]/table/tbody/tr[1]/th/a').click()\n",
      "/var/folders/sm/cxsqyhg95x34kj03xss1t3mh0000gn/T/ipykernel_44665/70876314.py:14: DeprecationWarning: find_element_by_* commands are deprecated. Please use find_element() instead\n",
      "  webdriver.find_element_by_xpath('//*[@id=\"content-main\"]/ul/li/a').click()\n",
      "/var/folders/sm/cxsqyhg95x34kj03xss1t3mh0000gn/T/ipykernel_44665/70876314.py:17: DeprecationWarning: find_element_by_* commands are deprecated. Please use find_element() instead\n",
      "  webdriver.find_element_by_xpath('//*[@id=\"id_title\"]').send_keys('test')\n",
      "/var/folders/sm/cxsqyhg95x34kj03xss1t3mh0000gn/T/ipykernel_44665/70876314.py:18: DeprecationWarning: find_element_by_* commands are deprecated. Please use find_element() instead\n",
      "  webdriver.find_element_by_xpath('//*[@id=\"id_deadline\"]').send_keys('2022-03-25')\n",
      "/var/folders/sm/cxsqyhg95x34kj03xss1t3mh0000gn/T/ipykernel_44665/70876314.py:19: DeprecationWarning: find_element_by_* commands are deprecated. Please use find_element() instead\n",
      "  webdriver.find_element_by_xpath('//*[@id=\"id_prize\"]').send_keys('test')\n",
      "/var/folders/sm/cxsqyhg95x34kj03xss1t3mh0000gn/T/ipykernel_44665/70876314.py:20: DeprecationWarning: find_element_by_* commands are deprecated. Please use find_element() instead\n",
      "  webdriver.find_element_by_xpath('//*[@id=\"id_contents\"]').send_keys('test')\n",
      "/var/folders/sm/cxsqyhg95x34kj03xss1t3mh0000gn/T/ipykernel_44665/70876314.py:21: DeprecationWarning: find_element_by_* commands are deprecated. Please use find_element() instead\n",
      "  webdriver.find_element_by_xpath('//*[@id=\"id_requirements\"]').send_keys('test')\n",
      "/var/folders/sm/cxsqyhg95x34kj03xss1t3mh0000gn/T/ipykernel_44665/70876314.py:22: DeprecationWarning: find_element_by_* commands are deprecated. Please use find_element() instead\n",
      "  webdriver.find_element_by_xpath('//*[@id=\"id_sponsor\"]').send_keys('test')\n",
      "/var/folders/sm/cxsqyhg95x34kj03xss1t3mh0000gn/T/ipykernel_44665/70876314.py:23: DeprecationWarning: find_element_by_* commands are deprecated. Please use find_element() instead\n",
      "  webdriver.find_element_by_xpath('//*[@id=\"id_link\"]').send_keys('test')\n",
      "/var/folders/sm/cxsqyhg95x34kj03xss1t3mh0000gn/T/ipykernel_44665/70876314.py:24: DeprecationWarning: find_element_by_* commands are deprecated. Please use find_element() instead\n",
      "  webdriver.find_element_by_xpath('//*[@id=\"kobo_info_form\"]/div/div/input[1]').click()\n",
      "/var/folders/sm/cxsqyhg95x34kj03xss1t3mh0000gn/T/ipykernel_44665/70876314.py:26: DeprecationWarning: find_element_by_* commands are deprecated. Please use find_element() instead\n",
      "  webdriver.find_element_by_xpath('//*[@id=\"user-tools\"]/a[3]').click()\n"
     ]
    }
   ],
   "source": [
    "option = Options()\n",
    "option.add_argument('--headless')\n",
    "webdriver = webdriver.Chrome(options=option)\n",
    "webdriver.get(KOBO_URL.DJANGO_URL)\n",
    "\n",
    "webdriver.find_element_by_xpath('//*[@id=\"id_username\"]').send_keys(KOBO_URL.DJANGO_UN)\n",
    "webdriver.find_element_by_xpath('//*[@id=\"id_password\"]').send_keys(KOBO_URL.DJANGO_PW)\n",
    "webdriver.find_element_by_xpath('//*[@id=\"login-form\"]/div[3]/input').click()\n",
    "\n",
    "time.sleep(3)\n",
    "\n",
    "webdriver.find_element_by_xpath('//*[@id=\"content-main\"]/div[2]/table/tbody/tr[1]/th/a').click()\n",
    "time.sleep(3)\n",
    "webdriver.find_element_by_xpath('//*[@id=\"content-main\"]/ul/li/a').click()\n",
    "time.sleep(3)\n",
    "\n",
    "webdriver.find_element_by_xpath('//*[@id=\"id_title\"]').send_keys('test')\n",
    "webdriver.find_element_by_xpath('//*[@id=\"id_deadline\"]').send_keys('2022-03-25')\n",
    "webdriver.find_element_by_xpath('//*[@id=\"id_prize\"]').send_keys('test')\n",
    "webdriver.find_element_by_xpath('//*[@id=\"id_contents\"]').send_keys('test')\n",
    "webdriver.find_element_by_xpath('//*[@id=\"id_requirements\"]').send_keys('test')\n",
    "webdriver.find_element_by_xpath('//*[@id=\"id_sponsor\"]').send_keys('test')\n",
    "webdriver.find_element_by_xpath('//*[@id=\"id_link\"]').send_keys('test')\n",
    "webdriver.find_element_by_xpath('//*[@id=\"kobo_info_form\"]/div/div/input[1]').click()\n",
    "time.sleep(3)\n",
    "webdriver.find_element_by_xpath('//*[@id=\"user-tools\"]/a[3]').click()\n"
   ]
  },
  {
   "cell_type": "code",
   "execution_count": null,
   "id": "f89a16b5-6e21-4b1d-9730-b5d923cd7aa8",
   "metadata": {},
   "outputs": [],
   "source": []
  }
 ],
 "metadata": {
  "kernelspec": {
   "display_name": "Python 3 (ipykernel)",
   "language": "python",
   "name": "python3"
  },
  "language_info": {
   "codemirror_mode": {
    "name": "ipython",
    "version": 3
   },
   "file_extension": ".py",
   "mimetype": "text/x-python",
   "name": "python",
   "nbconvert_exporter": "python",
   "pygments_lexer": "ipython3",
   "version": "3.9.7"
  }
 },
 "nbformat": 4,
 "nbformat_minor": 5
}
