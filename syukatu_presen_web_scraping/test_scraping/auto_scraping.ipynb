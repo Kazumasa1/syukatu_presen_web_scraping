{
 "cells": [
  {
   "cell_type": "code",
   "execution_count": 52,
   "id": "03aa1a53-7b50-484d-98d5-f311e72b0389",
   "metadata": {},
   "outputs": [
    {
     "name": "stderr",
     "output_type": "stream",
     "text": [
      "/var/folders/sm/cxsqyhg95x34kj03xss1t3mh0000gn/T/ipykernel_1350/163121145.py:27: DeprecationWarning: find_element_by_* commands are deprecated. Please use find_element() instead\n",
      "  webdriver.find_element_by_xpath('//*[@id=\"id_username\"]').send_keys(KOBO_URL.DJANGO_UN)\n",
      "/var/folders/sm/cxsqyhg95x34kj03xss1t3mh0000gn/T/ipykernel_1350/163121145.py:28: DeprecationWarning: find_element_by_* commands are deprecated. Please use find_element() instead\n",
      "  webdriver.find_element_by_xpath('//*[@id=\"id_password\"]').send_keys(KOBO_URL.DJANGO_PW)\n",
      "/var/folders/sm/cxsqyhg95x34kj03xss1t3mh0000gn/T/ipykernel_1350/163121145.py:29: DeprecationWarning: find_element_by_* commands are deprecated. Please use find_element() instead\n",
      "  webdriver.find_element_by_xpath('//*[@id=\"login-form\"]/div[3]/input').click()\n",
      "/var/folders/sm/cxsqyhg95x34kj03xss1t3mh0000gn/T/ipykernel_1350/163121145.py:32: DeprecationWarning: find_element_by_* commands are deprecated. Please use find_element() instead\n",
      "  webdriver.find_element_by_xpath('//*[@id=\"content-main\"]/div[2]/table/tbody/tr[1]/th/a').click()\n",
      "/var/folders/sm/cxsqyhg95x34kj03xss1t3mh0000gn/T/ipykernel_1350/163121145.py:180: DeprecationWarning: find_element_by_* commands are deprecated. Please use find_element() instead\n",
      "  webdriver.find_element_by_xpath('//*[@id=\"content-main\"]/ul/li/a').click()\n",
      "/var/folders/sm/cxsqyhg95x34kj03xss1t3mh0000gn/T/ipykernel_1350/163121145.py:182: DeprecationWarning: find_element_by_* commands are deprecated. Please use find_element() instead\n",
      "  webdriver.find_element_by_xpath('//*[@id=\"id_title\"]').send_keys(kobo_info['タイトル'])\n",
      "/var/folders/sm/cxsqyhg95x34kj03xss1t3mh0000gn/T/ipykernel_1350/163121145.py:183: DeprecationWarning: find_element_by_* commands are deprecated. Please use find_element() instead\n",
      "  webdriver.find_element_by_xpath('//*[@id=\"id_deadline\"]').send_keys(kobo_info['締切日'])\n",
      "/var/folders/sm/cxsqyhg95x34kj03xss1t3mh0000gn/T/ipykernel_1350/163121145.py:184: DeprecationWarning: find_element_by_* commands are deprecated. Please use find_element() instead\n",
      "  webdriver.find_element_by_xpath('//*[@id=\"id_prize\"]').send_keys(kobo_info['賞金'])\n",
      "/var/folders/sm/cxsqyhg95x34kj03xss1t3mh0000gn/T/ipykernel_1350/163121145.py:185: DeprecationWarning: find_element_by_* commands are deprecated. Please use find_element() instead\n",
      "  webdriver.find_element_by_xpath('//*[@id=\"id_contents\"]').send_keys(kobo_info['募集内容'])\n",
      "/var/folders/sm/cxsqyhg95x34kj03xss1t3mh0000gn/T/ipykernel_1350/163121145.py:186: DeprecationWarning: find_element_by_* commands are deprecated. Please use find_element() instead\n",
      "  webdriver.find_element_by_xpath('//*[@id=\"id_requirements\"]').send_keys(kobo_info['応募資格'])\n",
      "/var/folders/sm/cxsqyhg95x34kj03xss1t3mh0000gn/T/ipykernel_1350/163121145.py:187: DeprecationWarning: find_element_by_* commands are deprecated. Please use find_element() instead\n",
      "  webdriver.find_element_by_xpath('//*[@id=\"id_sponsor\"]').send_keys(kobo_info['主催'])\n",
      "/var/folders/sm/cxsqyhg95x34kj03xss1t3mh0000gn/T/ipykernel_1350/163121145.py:188: DeprecationWarning: find_element_by_* commands are deprecated. Please use find_element() instead\n",
      "  webdriver.find_element_by_xpath('//*[@id=\"id_link\"]').send_keys(kobo_info['応募リンク'])\n",
      "/var/folders/sm/cxsqyhg95x34kj03xss1t3mh0000gn/T/ipykernel_1350/163121145.py:189: DeprecationWarning: find_element_by_* commands are deprecated. Please use find_element() instead\n",
      "  webdriver.find_element_by_xpath('//*[@id=\"kobo_info_form\"]/div/div/input[1]').click()\n",
      "/var/folders/sm/cxsqyhg95x34kj03xss1t3mh0000gn/T/ipykernel_1350/163121145.py:197: DeprecationWarning: find_element_by_* commands are deprecated. Please use find_element() instead\n",
      "  webdriver.find_element_by_xpath('//*[@id=\"user-tools\"]/a[3]').click()\n"
     ]
    }
   ],
   "source": [
    "import requests\n",
    "import KOBO_URL\n",
    "import time\n",
    "import re\n",
    "import pandas as pd\n",
    "from bs4 import BeautifulSoup\n",
    "import csv\n",
    "from selenium import webdriver\n",
    "from selenium.webdriver.chrome.options import Options\n",
    "import datetime\n",
    "\n",
    "# 前日のスクレイピング結果を取得\n",
    "with open('kobo_scraping.csv') as f:\n",
    "    reader = csv.reader(f)\n",
    "    l = [row[:2] for row in reader]\n",
    "l = l[1:]\n",
    "\n",
    "# --- seleniumの設定 ---\n",
    "\n",
    "# seleniumをバックグラウンドで実行するオプションを追加\n",
    "option = Options()\n",
    "option.add_argument('--headless')\n",
    "webdriver = webdriver.Chrome(options=option)\n",
    "# webdriver = webdriver.Chrome()\n",
    "\n",
    "# 管理サイトにログイン\n",
    "webdriver.get(KOBO_URL.DJANGO_URL)\n",
    "webdriver.find_element_by_xpath('//*[@id=\"id_username\"]').send_keys(KOBO_URL.DJANGO_UN)\n",
    "webdriver.find_element_by_xpath('//*[@id=\"id_password\"]').send_keys(KOBO_URL.DJANGO_PW)\n",
    "webdriver.find_element_by_xpath('//*[@id=\"login-form\"]/div[3]/input').click()\n",
    "# ログインの処理を待つ\n",
    "time.sleep(3)\n",
    "webdriver.find_element_by_xpath('//*[@id=\"content-main\"]/div[2]/table/tbody/tr[1]/th/a').click()\n",
    "\n",
    "# -----------------------\n",
    "\n",
    "\n",
    "# 締切日が過ぎているかチェック\n",
    "title_old_csv = [row[:1] for row in l]\n",
    "deadline_old_csv = [row[1:] for row in l]\n",
    "\n",
    "for csv in range(len(deadline_old_csv)):\n",
    "    deadline = deadline_old_csv[csv][0]\n",
    "    deadline = datetime.datetime.strptime(deadline, '%Y-%m-%d')\n",
    "    deadline = datetime.date(deadline.year, deadline.month, deadline.day)\n",
    "    \n",
    "    # 締切日が過ぎている場合\n",
    "    if deadline <= datetime.date.today():\n",
    "        # 締切日が過ぎている公募をWebサイトから削除\n",
    "        webdriver.findElement(By.linkText(title_old_csv[csv][0])).click();\n",
    "        time.sleep(1)\n",
    "        webdriver.find_element_by_xpath('//*[@id=\"kobo_info_form\"]/div/div/p/a').click()\n",
    "        time.sleep(1)\n",
    "        webdriver.find_element_by_xpath('//*[@id=\"content\"]/form/div/input[2]').click()\n",
    "    else:\n",
    "        continue\n",
    "\n",
    "\n",
    "# スクレイピング対象のサイトのURLを取得\n",
    "url1 = KOBO_URL.KOBO_URL1\n",
    "res = requests.get(url1)\n",
    "\n",
    "# WebサイトのHTML要素を取得\n",
    "soup = BeautifulSoup(res.text, 'html.parser')\n",
    "\n",
    "# li要素を取得\n",
    "soup_li = soup.find_all('li', attrs={'class': 'contest-list-item'})\n",
    "\n",
    "# 応募リンクを配列に格納する\n",
    "link_list = []\n",
    "while_cnt = 0\n",
    "while True:\n",
    "    try:\n",
    "        soup_a = soup_li[while_cnt].find('a')\n",
    "        soup_a = soup_a.get('href')\n",
    "        link_list.append(soup_a)\n",
    "        \n",
    "    except IndexError as e:\n",
    "        break\n",
    "        \n",
    "    while_cnt += 1\n",
    "\n",
    "\n",
    "kobo_title_list = []\n",
    "kobo_feature_list = []\n",
    "kobo_info_list = []\n",
    "\n",
    "\n",
    "for n in range(len(link_list)):\n",
    "# for n in range(2):\n",
    "    # 情報を取得する公募ページに移動してHTTPを取得\n",
    "    kobo_url = link_list[n]\n",
    "    res_kobo = requests.get(kobo_url)\n",
    "    soup_kobo = BeautifulSoup(res_kobo.text, 'html.parser')\n",
    "    soup_kobo_dl = soup_kobo.find_all('dl')\n",
    "    \n",
    "    while_cnt = 0\n",
    "    while True:\n",
    "        try:\n",
    "            soup_kobo_dt = soup_kobo_dl[while_cnt].find_all('dt')\n",
    "            if '締切' == soup_kobo_dt[0].text:\n",
    "                break\n",
    "        except IndexError as e:\n",
    "            break\n",
    "        while_cnt += 1\n",
    "    \n",
    "    soup_kobo_dd = soup_kobo_dl[while_cnt].find_all('dd')\n",
    "    \n",
    "    kobo_info = {}\n",
    "    \n",
    "    # タイトルを追加\n",
    "    kobo_title = soup_li[n].find_all('h3')\n",
    "    kobo_title = kobo_title[0].text.replace('\\u3000', '')\n",
    "    kobo_info.setdefault('タイトル', kobo_title)\n",
    "    \n",
    "    # 応募リンクを追加\n",
    "    obo_link = ''\n",
    "    # 川柳の詳細ページのHTML要素の<a>タグのclass='btn-koushiki'の要素を取得\n",
    "    obo_link = soup_kobo.find_all('a', attrs={'class': 'btn-koushiki'})\n",
    "    obo_link = obo_link[0].get('href')\n",
    "    # 応募リンクをkobo_infoに追加\n",
    "    kobo_info.setdefault('応募リンク', obo_link)\n",
    "    \n",
    "    # 公募概要情報の取得・配列に格納\n",
    "    for j in range(len(soup_kobo_dd)):\n",
    "        kobo_feature_title = soup_kobo_dt[j].text\n",
    "        kobo_feature_title = kobo_feature_title.replace('\\u3000', ' ')\n",
    "        \n",
    "        # 項目名をデータベースのカラム名に変換\n",
    "        if '締切' == kobo_feature_title:\n",
    "            kobo_feature_title = '締切日'\n",
    "            \n",
    "            # 日付だけを抽出\n",
    "            kobo_feature = soup_kobo_dd[j].text.replace('\\u3000', ' ')\n",
    "            kobo_feature = kobo_feature.replace('\\n', '')\n",
    "            kobo_feature = kobo_feature.replace('\\t', '')\n",
    "            kobo_feature = kobo_feature.replace('\\r', '')\n",
    "            kobo_feature = re.match('20\\d\\d.\\d\\d.\\d\\d.', kobo_feature)\n",
    "            kobo_feature =  str(kobo_feature.group())\n",
    "            kobo_feature = kobo_feature.replace('年', '-')\n",
    "            kobo_feature = kobo_feature.replace('月', '-')\n",
    "            kobo_feature = kobo_feature.replace('日', '')\n",
    "            kobo_info.setdefault(kobo_feature_title, kobo_feature)\n",
    "            \n",
    "            continue\n",
    "            \n",
    "        elif '賞' == kobo_feature_title:\n",
    "            kobo_feature_title = '賞金'\n",
    "        elif '募集内容' == kobo_feature_title:\n",
    "            kobo_feature_title = '募集内容'\n",
    "        elif '参加資格' == kobo_feature_title:\n",
    "            kobo_feature_title = '応募資格'\n",
    "        elif '主催' == kobo_feature_title:\n",
    "            kobo_feature_title = '主催'\n",
    "        else:\n",
    "            continue\n",
    "        \n",
    "        # HTML要素のテキストだけを取り出す\n",
    "        kobo_feature = soup_kobo_dd[j].text.replace('\\u3000', ' ')\n",
    "        kobo_feature = kobo_feature.replace('\\n', '')\n",
    "        kobo_feature = kobo_feature.replace('\\t', '')\n",
    "        kobo_feature = kobo_feature.replace('\\r', '')\n",
    "        kobo_info.setdefault(kobo_feature_title, kobo_feature)\n",
    "        \n",
    "    # kobo_infoの中身を並び替える\n",
    "    kobo_sort = {}\n",
    "    kobo_sort.setdefault('タイトル', kobo_info['タイトル'])\n",
    "    kobo_sort.setdefault('締切日', kobo_info['締切日'])\n",
    "    kobo_sort.setdefault('賞金', kobo_info['賞金'])\n",
    "    kobo_sort.setdefault('募集内容', kobo_info['募集内容'])\n",
    "    kobo_sort.setdefault('応募資格', kobo_info['応募資格'])\n",
    "    kobo_sort.setdefault('主催', kobo_info['主催'])\n",
    "    kobo_sort.setdefault('応募リンク', kobo_info['応募リンク'])\n",
    "\n",
    "    # 公募情報を配列に格納\n",
    "    kobo_info_list.append(kobo_sort)\n",
    "\n",
    "    if [kobo_info['タイトル']] in title_old_csv:\n",
    "        pass\n",
    "    else:\n",
    "        webdriver.find_element_by_xpath('//*[@id=\"content-main\"]/ul/li/a').click()\n",
    "        time.sleep(3)\n",
    "        webdriver.find_element_by_xpath('//*[@id=\"id_title\"]').send_keys(kobo_info['タイトル'])\n",
    "        webdriver.find_element_by_xpath('//*[@id=\"id_deadline\"]').send_keys(kobo_info['締切日'])\n",
    "        webdriver.find_element_by_xpath('//*[@id=\"id_prize\"]').send_keys(kobo_info['賞金'])\n",
    "        webdriver.find_element_by_xpath('//*[@id=\"id_contents\"]').send_keys(kobo_info['募集内容'])\n",
    "        webdriver.find_element_by_xpath('//*[@id=\"id_requirements\"]').send_keys(kobo_info['応募資格'])\n",
    "        webdriver.find_element_by_xpath('//*[@id=\"id_sponsor\"]').send_keys(kobo_info['主催'])\n",
    "        webdriver.find_element_by_xpath('//*[@id=\"id_link\"]').send_keys(kobo_info['応募リンク'])\n",
    "        webdriver.find_element_by_xpath('//*[@id=\"kobo_info_form\"]/div/div/input[1]').click()\n",
    "        time.sleep(3)\n",
    "\n",
    "    # サーバへの負荷を下げるためにsleep\n",
    "    time.sleep(60)\n",
    "\n",
    "    \n",
    "# 管理サイトからログアウトする（selenium）\n",
    "webdriver.find_element_by_xpath('//*[@id=\"user-tools\"]/a[3]').click()\n",
    "\n",
    "# csvで出力\n",
    "\n",
    "df = pd.DataFrame(kobo_info_list)\n",
    "\n",
    "# excelで文字化けしないようにutf_8_sigでエンコード\n",
    "df.to_csv('kobo_scraping.csv', encoding='utf_8_sig', index = False)"
   ]
  },
  {
   "cell_type": "code",
   "execution_count": 49,
   "id": "9ea2a0c7-3f17-4af6-8679-5524e1677504",
   "metadata": {},
   "outputs": [
    {
     "data": {
      "text/plain": [
       "True"
      ]
     },
     "execution_count": 49,
     "metadata": {},
     "output_type": "execute_result"
    }
   ],
   "source": [
    "[kobo_info['タイトル']] in title_old_csv"
   ]
  },
  {
   "cell_type": "code",
   "execution_count": 24,
   "id": "a7fdfa47-39e1-4609-b4ca-7cd5eae04d7b",
   "metadata": {},
   "outputs": [
    {
     "data": {
      "text/plain": [
       "[['2022-03-31'],\n",
       " ['2022-03-31'],\n",
       " ['2022-03-31'],\n",
       " ['2022-03-31'],\n",
       " ['2022-03-31'],\n",
       " ['2022-04-03'],\n",
       " ['2022-04-30'],\n",
       " ['2022-05-01'],\n",
       " ['2022-05-13'],\n",
       " ['2022-05-17'],\n",
       " ['2022-05-31'],\n",
       " ['2022-05-31'],\n",
       " ['2022-07-15'],\n",
       " ['2022-07-31'],\n",
       " ['2022-08-31'],\n",
       " ['2022-09-14'],\n",
       " ['2022-09-15'],\n",
       " ['2022-11-30']]"
      ]
     },
     "execution_count": 24,
     "metadata": {},
     "output_type": "execute_result"
    }
   ],
   "source": [
    "import csv\n",
    "\n",
    "with open('kobo_scraping.csv') as f:\n",
    "    reader = csv.reader(f)\n",
    "    l = [row[:2] for row in reader]\n",
    "\n",
    "l = l[1:]\n",
    "title_old_csv = [row[:1] for row in l]\n",
    "deadline_old_csv = [row[1:] for row in l]\n",
    "title_old_csv\n",
    "deadline_old_csv"
   ]
  },
  {
   "cell_type": "code",
   "execution_count": 29,
   "id": "648c333d-e262-4210-8efc-d53a42089e96",
   "metadata": {},
   "outputs": [
    {
     "data": {
      "text/plain": [
       "datetime.date(2022, 3, 31)"
      ]
     },
     "execution_count": 32,
     "metadata": {},
     "output_type": "execute_result"
    }
   ],
   "source": [
    "deadline_old_csv[0][0]\n",
    "\n",
    "# seleniumをバックグラウンドで実行するオプションを追加\n",
    "option = Options()\n",
    "option.add_argument('--headless')\n",
    "webdriver = webdriver.Chrome(options=option)\n",
    "\n",
    "# 管理サイトにログイン\n",
    "webdriver.get(KOBO_URL.DJANGO_URL)\n",
    "webdriver.find_element_by_xpath('//*[@id=\"id_username\"]').send_keys(KOBO_URL.DJANGO_UN)\n",
    "webdriver.find_element_by_xpath('//*[@id=\"id_password\"]').send_keys(KOBO_URL.DJANGO_PW)\n",
    "webdriver.find_element_by_xpath('//*[@id=\"login-form\"]/div[3]/input').click()\n",
    "# ログインの処理を待つ\n",
    "time.sleep(3)\n",
    "webdriver.find_element_by_xpath('//*[@id=\"content-main\"]/div[2]/table/tbody/tr[1]/th/a').click()\n",
    "\n",
    "# kobo_scraping.csvの公募情報が締切日を過ぎていないかチェック\n",
    "for csv in range(len(deadline_old_csv)):\n",
    "    deadline = deadline_old_csv[csv][0]\n",
    "    deadline = datetime.datetime.strptime(deadline, '%Y-%m-%d')\n",
    "    deadline = datetime.date(deadline.year, deadline.month, deadline.day)\n",
    "    \n",
    "    # 締切日が過ぎている場合\n",
    "    if deadline <= datetime.date.today():\n",
    "        # 締切日が過ぎている公募をWebサイトから削除\n",
    "        webdriver.findElement(By.linkText(title_old_csv[csv][0])).click();\n",
    "        time.sleep(1)\n",
    "        webdriver.find_element_by_xpath('//*[@id=\"kobo_info_form\"]/div/div/p/a').click()\n",
    "        time.sleep(1)\n",
    "        webdriver.find_element_by_xpath('//*[@id=\"content\"]/form/div/input[2]').click()\n",
    "    else:\n",
    "        pass"
   ]
  },
  {
   "cell_type": "code",
   "execution_count": 4,
   "id": "b12a080e-26b1-446a-84f3-f4263bac92dc",
   "metadata": {},
   "outputs": [
    {
     "data": {
      "text/plain": [
       "True"
      ]
     },
     "execution_count": 4,
     "metadata": {},
     "output_type": "execute_result"
    }
   ],
   "source": [
    "[kobo_sort['タイトル']] in title_old_csv"
   ]
  },
  {
   "cell_type": "code",
   "execution_count": 5,
   "id": "85a88fb9-a3cb-4e66-ac33-b6568e69daa9",
   "metadata": {},
   "outputs": [
    {
     "data": {
      "text/plain": [
       "False"
      ]
     },
     "execution_count": 5,
     "metadata": {},
     "output_type": "execute_result"
    }
   ],
   "source": [
    "kobo_sort['タイトル'] in title_old_csv"
   ]
  },
  {
   "cell_type": "code",
   "execution_count": 6,
   "id": "d1371dbb-29a3-4af1-bca5-aba392194895",
   "metadata": {},
   "outputs": [],
   "source": [
    "kobo_sort['締切日']"
   ]
  },
  {
   "cell_type": "code",
   "execution_count": 42,
   "id": "86541c4c-046d-4083-ae51-90afd4ec939a",
   "metadata": {},
   "outputs": [
    {
     "data": {
      "text/plain": [
       "str"
      ]
     },
     "execution_count": 42,
     "metadata": {},
     "output_type": "execute_result"
    }
   ],
   "source": [
    "type(title_old_csv[csv][0])"
   ]
  },
  {
   "cell_type": "code",
   "execution_count": 20,
   "id": "ebda5cb2-f6bf-4d9a-a2b2-1a6d0dbe8ada",
   "metadata": {},
   "outputs": [
    {
     "data": {
      "text/plain": [
       "datetime.date(2022, 3, 27)"
      ]
     },
     "execution_count": 20,
     "metadata": {},
     "output_type": "execute_result"
    }
   ],
   "source": [
    "import datetime\n",
    "\n",
    "new_date = kobo_sort['締切日']\n",
    "# new_date = '2022-03-27'\n",
    "new_date = datetime.datetime.strptime(new_date, '%Y-%m-%d')\n",
    "new_date = datetime.date(new_date.year, new_date.month, new_date.day)\n",
    "new_date"
   ]
  },
  {
   "cell_type": "code",
   "execution_count": 21,
   "id": "810050a3-d79a-4867-86a5-324f1d7205f9",
   "metadata": {},
   "outputs": [
    {
     "data": {
      "text/plain": [
       "datetime.date(2022, 3, 27)"
      ]
     },
     "execution_count": 21,
     "metadata": {},
     "output_type": "execute_result"
    }
   ],
   "source": [
    "# str(datetime.date.today())\n",
    "datetime.date.today()"
   ]
  },
  {
   "cell_type": "code",
   "execution_count": 22,
   "id": "b01530cf-134a-426d-89ad-2b644c211039",
   "metadata": {},
   "outputs": [
    {
     "data": {
      "text/plain": [
       "True"
      ]
     },
     "execution_count": 22,
     "metadata": {},
     "output_type": "execute_result"
    }
   ],
   "source": [
    "new_date >= datetime.date.today()"
   ]
  },
  {
   "cell_type": "code",
   "execution_count": 51,
   "id": "728013a9-8c67-4039-a19d-919141cef51d",
   "metadata": {},
   "outputs": [
    {
     "data": {
      "text/plain": [
       "[['第11回 いかなごのくぎ煮文学賞', '2022-03-31'],\n",
       " ['第17回 巣鴨地蔵通り 素人川柳大会', '2022-03-31'],\n",
       " ['第6回 救世軍社会鍋俳句コンテスト', '2022-03-31'],\n",
       " ['第2回 医療機関あるある川柳コンテスト', '2022-03-31'],\n",
       " ['鈴鹿の森庭園川柳コンテスト 2022', '2022-03-31'],\n",
       " ['第5回 クスッと笑えるシルバー川柳', '2022-04-03'],\n",
       " ['第35回 夕暮祭短歌大会', '2022-04-30'],\n",
       " ['第8回 クスッと笑える夫婦川柳・カップル川柳', '2022-05-01'],\n",
       " ['第47回 わたぼうし音楽祭 作品募集', '2022-05-13'],\n",
       " ['第6回 永瀬清子現代詩賞 作品募集', '2022-05-17'],\n",
       " ['第68回 角川短歌賞', '2022-05-31'],\n",
       " ['銀のつぼ 第7回 シニア川柳コンテスト', '2022-05-31'],\n",
       " ['第18回 台所・お風呂の川柳', '2022-07-15'],\n",
       " ['第10回 ハイクアート賞 作品募集', '2022-07-31'],\n",
       " ['第2回 「円い町」文学賞 作品募集', '2022-08-31'],\n",
       " ['第25回 長塚節文学賞', '2022-09-14'],\n",
       " ['第5回 笹井宏之賞', '2022-09-15'],\n",
       " ['第40回 兜太現代俳句新人賞', '2022-11-30']]"
      ]
     },
     "execution_count": 51,
     "metadata": {},
     "output_type": "execute_result"
    }
   ],
   "source": [
    "l[1:]"
   ]
  },
  {
   "cell_type": "code",
   "execution_count": null,
   "id": "e73b4527-bc9e-4991-8fc5-e0f8c236e8da",
   "metadata": {},
   "outputs": [],
   "source": [
    "# 締切が過ぎているコンテストを削除する\n"
   ]
  }
 ],
 "metadata": {
  "kernelspec": {
   "display_name": "Python 3 (ipykernel)",
   "language": "python",
   "name": "python3"
  },
  "language_info": {
   "codemirror_mode": {
    "name": "ipython",
    "version": 3
   },
   "file_extension": ".py",
   "mimetype": "text/x-python",
   "name": "python",
   "nbconvert_exporter": "python",
   "pygments_lexer": "ipython3",
   "version": "3.9.7"
  }
 },
 "nbformat": 4,
 "nbformat_minor": 5
}
