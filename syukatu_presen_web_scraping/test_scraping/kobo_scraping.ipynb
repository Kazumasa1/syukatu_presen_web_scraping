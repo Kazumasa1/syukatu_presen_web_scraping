{
 "cells": [
  {
   "cell_type": "code",
   "execution_count": 2,
   "id": "b004cf1a-7637-41ba-84b4-09d58044e20a",
   "metadata": {},
   "outputs": [],
   "source": [
    "import requests\n",
    "import KOBO_URL\n",
    "import time\n",
    "import re\n",
    "import pandas as pd\n",
    "from bs4 import BeautifulSoup\n",
    "\n",
    "# スクレイピング対象のサイトのURLを取得\n",
    "url1 = KOBO_URL.KOBO_URL1\n",
    "res = requests.get(url1)\n",
    "\n",
    "# WebサイトのHTML要素を取得\n",
    "soup = BeautifulSoup(res.text, 'html.parser')\n",
    "\n",
    "# li要素を取得\n",
    "soup_li = soup.find_all('li', attrs={'class': 'contest-list-item'})\n",
    "\n",
    "# 応募リンクを配列に格納する\n",
    "link_list = []\n",
    "while_cnt = 0\n",
    "while True:\n",
    "    try:\n",
    "        soup_a = soup_li[while_cnt].find('a')\n",
    "        soup_a = soup_a.get('href')\n",
    "        link_list.append(soup_a)\n",
    "        \n",
    "    except IndexError as e:\n",
    "        break\n",
    "        \n",
    "    while_cnt += 1\n",
    "\n",
    "\n",
    "kobo_title_list = []\n",
    "kobo_feature_list = []\n",
    "kobo_info_list = []\n",
    "\n",
    "\n",
    "for n in range(len(link_list)):\n",
    "# for n in range(2):\n",
    "    # 情報を取得する公募ページに移動してHTTPを取得\n",
    "    kobo_url = link_list[n]\n",
    "    res_kobo = requests.get(kobo_url)\n",
    "    soup_kobo = BeautifulSoup(res_kobo.text, 'html.parser')\n",
    "    soup_kobo_dl = soup_kobo.find_all('dl')\n",
    "    \n",
    "    while_cnt = 0\n",
    "    while True:\n",
    "        try:\n",
    "            soup_kobo_dt = soup_kobo_dl[while_cnt].find_all('dt')\n",
    "            if '締切' == soup_kobo_dt[0].text:\n",
    "                break\n",
    "        except IndexError as e:\n",
    "            break\n",
    "        while_cnt += 1\n",
    "    \n",
    "    soup_kobo_dd = soup_kobo_dl[while_cnt].find_all('dd')\n",
    "    \n",
    "    kobo_info = {}\n",
    "    \n",
    "    # タイトルを追加\n",
    "    kobo_title = soup_li[n].find_all('h3')\n",
    "    kobo_title = kobo_title[0].text.replace('\\u3000', '')\n",
    "    kobo_info.setdefault('タイトル', kobo_title)\n",
    "    \n",
    "    # 応募リンクを追加\n",
    "    obo_link = ''\n",
    "    # 川柳の詳細ページのHTML要素の<a>タグのclass='btn-koushiki'の要素を取得\n",
    "    obo_link = soup_kobo.find_all('a', attrs={'class': 'btn-koushiki'})\n",
    "    obo_link = obo_link[0].get('href')\n",
    "    # 応募リンクをkobo_infoに追加\n",
    "    kobo_info.setdefault('応募リンク', obo_link)\n",
    "    \n",
    "    # 公募概要情報の取得・配列に格納\n",
    "    for j in range(len(soup_kobo_dd)):\n",
    "        kobo_feature_title = soup_kobo_dt[j].text\n",
    "        kobo_feature_title = kobo_feature_title.replace('\\u3000', ' ')\n",
    "        \n",
    "        # 項目名をデータベースのカラム名に変換\n",
    "        if '締切' == kobo_feature_title:\n",
    "            kobo_feature_title = '締切日'\n",
    "            \n",
    "            # 日付だけを抽出\n",
    "            kobo_feature = soup_kobo_dd[j].text.replace('\\u3000', ' ')\n",
    "            kobo_feature = kobo_feature.replace('\\n', '')\n",
    "            kobo_feature = kobo_feature.replace('\\t', '')\n",
    "            kobo_feature = kobo_feature.replace('\\r', '')\n",
    "            kobo_feature = re.match('20\\d\\d.\\d\\d.\\d\\d.', kobo_feature)\n",
    "            kobo_feature =  str(kobo_feature.group())\n",
    "            kobo_feature = kobo_feature.replace('年', '-')\n",
    "            kobo_feature = kobo_feature.replace('月', '-')\n",
    "            kobo_feature = kobo_feature.replace('日', '')\n",
    "            kobo_info.setdefault(kobo_feature_title, kobo_feature)\n",
    "            \n",
    "            continue\n",
    "            \n",
    "        elif '賞' == kobo_feature_title:\n",
    "            kobo_feature_title = '賞金'\n",
    "        elif '募集内容' == kobo_feature_title:\n",
    "            kobo_feature_title = '募集内容'\n",
    "        elif '参加資格' == kobo_feature_title:\n",
    "            kobo_feature_title = '応募資格'\n",
    "        elif '主催' == kobo_feature_title:\n",
    "            kobo_feature_title = '主催'\n",
    "        else:\n",
    "            continue\n",
    "        \n",
    "        # HTML要素のテキストだけを取り出す\n",
    "        kobo_feature = soup_kobo_dd[j].text.replace('\\u3000', ' ')\n",
    "        kobo_feature = kobo_feature.replace('\\n', '')\n",
    "        kobo_feature = kobo_feature.replace('\\t', '')\n",
    "        kobo_feature = kobo_feature.replace('\\r', '')\n",
    "        kobo_info.setdefault(kobo_feature_title, kobo_feature)\n",
    "        \n",
    "    # kobo_infoの中身を並び替える\n",
    "    kobo_sort = {}\n",
    "    kobo_sort.setdefault('タイトル', kobo_info['タイトル'])\n",
    "    kobo_sort.setdefault('締切日', kobo_info['締切日'])\n",
    "    kobo_sort.setdefault('賞金', kobo_info['賞金'])\n",
    "    kobo_sort.setdefault('募集内容', kobo_info['募集内容'])\n",
    "    kobo_sort.setdefault('応募資格', kobo_info['応募資格'])\n",
    "    kobo_sort.setdefault('主催', kobo_info['主催'])\n",
    "    kobo_sort.setdefault('応募リンク', kobo_info['応募リンク'])\n",
    "    \n",
    "    # 公募情報を配列に格納\n",
    "    kobo_info_list.append(kobo_sort)\n",
    "    \n",
    "    # サーバへの負荷を下げるためにsleep\n",
    "    time.sleep(3)\n",
    "    \n",
    "    \n",
    "# csvで出力\n",
    "\n",
    "df = pd.DataFrame(kobo_info_list)\n",
    "\n",
    "# excelで文字化けしないようにutf_8_sigでエンコード\n",
    "df.to_csv('kobo_scraping.csv', encoding='utf_8_sig', index = False)"
   ]
  },
  {
   "cell_type": "code",
   "execution_count": 1,
   "id": "c77c8b1b-7531-4bb4-896b-446a1b486612",
   "metadata": {},
   "outputs": [],
   "source": [
    "# 確認用\n",
    "# kobo_sort"
   ]
  },
  {
   "cell_type": "code",
   "execution_count": 3,
   "id": "75f7ca7f-8cb6-4524-9084-3fd15eb99056",
   "metadata": {},
   "outputs": [
    {
     "data": {
      "text/plain": [
       "[{'タイトル': '作詩・作曲コンテスト ソングコンテストグランプリ 2022作詩部門',\n",
       "  '締切日': '2022-03-17',\n",
       "  '賞金': '●グランプリ 山本譲二が歌唱',\n",
       "  '募集内容': '未発表オリジナルの歌詞※歌唱は山本譲二（テイチクエンタテインメント）',\n",
       "  '応募資格': '不問',\n",
       "  '主催': '公益社団法人 日本作曲家協会、一般社団法人 日本作詩家協会',\n",
       "  '応募リンク': 'https://jacompa.or.jp/songcontest.html'},\n",
       " {'タイトル': '第8回 憲法改正（改憲）川柳コンクール',\n",
       "  '締切日': '2022-03-25',\n",
       "  '賞金': '●大賞（1名） 賞金3万円、書籍「国民のための憲法改正学の勧め」●佳作（6名） 5000円分の図書カード、書籍「国民のための憲法改正学の勧め」※同一作品が複数の場合は抽選で入選作を決定する',\n",
       "  '募集内容': '憲法改正を題材にした未発表の川柳（五七五）※改憲反対的内容の作品は受付不可※本人が創作した、他のコンクール等への応募がなされていない作品※過去の応募作品と同一の句は不可',\n",
       "  '応募資格': '日本国内在住者',\n",
       "  '主催': '新しい憲法をつくる国民会議（＝自主憲法制定国民会議）',\n",
       "  '応募リンク': 'http://atarashii-kenpou.jp/event/senryu-contest2022.html'},\n",
       " {'タイトル': '第11回 いかなごのくぎ煮文学賞',\n",
       "  '締切日': '2022-03-31',\n",
       "  '賞金': '●グランプリ（1点） 賞金2万円、5000円相当の伍魚福珍味セット●準グランプリ（1点） 賞金1万円、5000円相当の伍魚福珍味セット●郵便局賞（1点） 5000円相当の文具類セット、ポスト型貯金箱、5000円相当の伍魚福珍味セット●特選（各部門1点程度） 3000円分のギフトカード、3000円相当の伍魚福珍味セット●いかなごのくぎ煮振興協会賞（数点） 1000円相当の伍魚福珍味セット【ジュニア部門（高校生以下対象）】●グランプリ（1点） 5000円分の図書カード、3000円相当の伍魚福珍味セット●準グランプリ（1点） 3000円分の図書カード、3000円相当の伍魚福珍味セット●特選（数点） 2000円分の図書カード、1000円相当の伍魚福珍味セット',\n",
       "  '募集内容': 'いかなごのくぎ煮への「熱い思い」を綴った文学作品※俳句、短歌、川柳、詩、エッセイ等、スタイルは不問※自作未発表の作品に限る',\n",
       "  '応募資格': 'いかなごのくぎ煮に思い入れのある方',\n",
       "  '主催': 'いかなごのくぎ煮振興協会（株式会社伍魚福内）',\n",
       "  '応募リンク': 'https://kugini.jp/20220201/'},\n",
       " {'タイトル': '第17回 巣鴨地蔵通り 素人川柳大会',\n",
       "  '締切日': '2022-03-31',\n",
       "  '賞金': '●特選 1万円分の地蔵通りお買い物券、副賞●一席 5000円分の地蔵通りお買い物券、副賞●二席 3000円分の地蔵通りお買い物券、副賞●三席 2000円分の地蔵通りお買い物券●佳作 1000円分の地蔵通りお買い物券他賞あり',\n",
       "  '募集内容': 'お題にそった川柳【お題】「風」※読み方は「かぜ」「ふう」でも可',\n",
       "  '応募資格': '不問',\n",
       "  '主催': '巣鴨地蔵通り商店街',\n",
       "  '応募リンク': 'https://sugamo.or.jp/info/%e7%ac%ac%e5%8d%81%e4%b8%83%e5%9b%9e-%e5%b7%a3%e9%b4%a8%e5%9c%b0%e8%94%b5%e9%80%9a%e3%82%8a-%e7%b4%a0%e4%ba%ba%e5%b7%9d%e6%9f%b3%e5%a4%a7%e4%bc%9a/'},\n",
       " {'タイトル': '第6回 救世軍社会鍋俳句コンテスト',\n",
       "  '締切日': '2022-03-31',\n",
       "  '賞金': '●最優秀賞（1句） 賞状、副賞●優秀賞（2句） 賞状、副賞●社会福祉部長賞（1句） 賞状、副賞●ほのぼの賞（3句） 賞状、副賞',\n",
       "  '募集内容': '社会鍋を題材にした未発表の俳句',\n",
       "  '応募資格': '不問',\n",
       "  '主催': '救世軍本営',\n",
       "  '応募リンク': 'https://www.salvationarmy.or.jp/etc/7253'},\n",
       " {'タイトル': '第2回 医療機関あるある川柳コンテスト',\n",
       "  '締切日': '2022-03-31',\n",
       "  '賞金': '●最優秀賞（1名） 賞金10万円、額入り賞状●優秀賞（3名） 賞金3万円、額入り賞状●セリスタッフ賞（6名） 賞金1万円、額入り賞状●佳作（20名） セリスタオリジナル元素周期表マグカップ',\n",
       "  '募集内容': 'テーマにそった未発表の川柳※必ず本人が作った作品を応募すること【テーマ】医療機関あるある※クリニックや薬局等の医療機関にまつわる、思わず「あるある！」とうなずいてしまう日常的でユーモアのある川柳を、院長先生の立場やナースからみた院長等の様々な立場・視点の川柳',\n",
       "  '応募資格': '医療機関で働いている方※通院患者は不可',\n",
       "  '主催': 'セリスタ株式会社',\n",
       "  '応募リンク': 'https://www.selista.jp/%E7%AC%AC2%E5%9B%9E%E5%8C%BB%E7%99%82%E6%A9%9F%E9%96%A2%E3%81%82%E3%82%8B%E3%81%82%E3%82%8B%E5%B7%9D%E6%9F%B3%E3%82%B3%E3%83%B3%E3%83%86%E3%82%B9%E3%83%88/'},\n",
       " {'タイトル': '鈴鹿の森庭園川柳コンテスト 2022',\n",
       "  '締切日': '2022-03-31',\n",
       "  '賞金': '●金賞（1点） 季節のお花ギフト●銀賞（3点） FFCハンドクリーム MUME（赤塚植物園オリジナル商品）●銅賞（5点） オリジナルグッズ※入賞者には副賞として赤塚植物園が運営する「レッドヒル ヒーサーの森」招待券も贈呈',\n",
       "  '募集内容': 'テーマにそった川柳※応募者の自作未発表の作品に限る【テーマ】鈴鹿の森庭園「しだれ梅まつり」にちなんだ作品',\n",
       "  '応募資格': '日本国内在住の方に限る',\n",
       "  '主催': '株式会社赤塚植物園',\n",
       "  '応募リンク': 'https://www.akatsuka.gr.jp/group/suzuka/senryu.html'},\n",
       " {'タイトル': '第5回 クスッと笑えるシルバー川柳',\n",
       "  '締切日': '2022-04-03',\n",
       "  '賞金': '●最優秀作品（1名） 1万円分のAmazonギフト券●優秀作品（2名） 2000円分のAmazonギフト券●きたよ。特別賞（20名） 5000円分のお墓参り代行時に使える優待券',\n",
       "  '募集内容': 'テーマにそった川柳【テーマ】シルバーに関する作品',\n",
       "  '応募資格': '不問',\n",
       "  '主催': '全国お墓参り代行サービス「きたよ。」',\n",
       "  '応募リンク': 'https://kitayo.tgn.co.jp/s-senryu/05/'},\n",
       " {'タイトル': '第35回 夕暮祭短歌大会',\n",
       "  '締切日': '2022-04-30',\n",
       "  '賞金': '●秦野市長賞 表彰●秦野市教育委員会教育長賞 表彰●選者賞 表彰他賞あり※全応募作品を収録した作品集を作成（希望者は応募時に「作品集希望」と明記／大会後、送料受取人払いにて送付）',\n",
       "  '募集内容': '自作未発表の短歌※自由題とする',\n",
       "  '応募資格': '不問',\n",
       "  '主催': '神奈川県秦野市、秦野市教育委員会',\n",
       "  '応募リンク': 'https://library-hadano.jp/'},\n",
       " {'タイトル': '第47回 わたぼうし音楽祭 作品募集',\n",
       "  '締切日': '2022-05-13',\n",
       "  '賞金': '●入選（8点） 第47回 わたぼうし音楽祭」に出場可能、「第47回わたぼうし音楽祭」の模様をYouTubeチャンネルにてライブ配信およびテレビ放映※入選詩8点を決定後、入選詩に対して曲の募集を開始',\n",
       "  '募集内容': 'あなたの思いを託した未発表の詩またはメロディー※テーマは不問【作詩の部】※詩集は不可【作詩・作曲の部】※「作詩の部」の応募作品は除く',\n",
       "  '応募資格': '障害のある方に限る※作曲は障害の有無は不問',\n",
       "  '主催': '奈良たんぽぽの会',\n",
       "  '応募リンク': 'https://tanpoponoye.org/news/general/2022/01/000912829/'},\n",
       " {'タイトル': '第6回 永瀬清子現代詩賞 作品募集',\n",
       "  '締切日': '2022-05-17',\n",
       "  '賞金': '●永瀬清子現代詩賞（1点） 賞金3万円※作品集「いつかだれかにわたしの思いを」に掲載（受賞作と一次選考通過作品）',\n",
       "  '募集内容': '未発表の現代詩※日本語で書かれた本人による作品に限る※新聞、雑誌、同人誌、ホームページ、ブログその他のメディアで既に発表した作品や、他の文学賞に応募した作品は不可',\n",
       "  '応募資格': '17歳以上',\n",
       "  '主催': 'NPO法人 永瀬清子生家保存会',\n",
       "  '応募リンク': 'https://www.nagasekiyoko-hozonkai.jp/現代詩賞/'},\n",
       " {'タイトル': '第18回 台所・お風呂の川柳',\n",
       "  '締切日': '2022-07-15',\n",
       "  '賞金': '●キッチン・バス大賞 賞金5万円他賞あり',\n",
       "  '募集内容': 'テーマにそった川柳【テーマ】台所・お風呂での様々な思い出や、出来事',\n",
       "  '応募資格': '不問',\n",
       "  '主催': 'キッチン・バス工業会',\n",
       "  '応募リンク': 'https://www.kitchen-bath.jp/senryu/information.html'},\n",
       " {'タイトル': '第10回 ハイクアート賞 作品募集',\n",
       "  '締切日': '2022-07-31',\n",
       "  '賞金': '●俳句部門大賞 賞金5000円●ハイクアート部門大賞 賞金1万円※海外からの応募の場合、賞金相当の賞品を郵送',\n",
       "  '募集内容': 'オリジナル未発表の俳句または俳句アート【部門】（1）俳句部門：八木 健のアート9点（公式ホームページ参照）の中から好きな作品を選んで、俳句をつけること（2）ハイクアート部門：アートも俳句も、自身のオリジナル作品を制作し、アートの中に俳句を入れること',\n",
       "  '応募資格': '不問',\n",
       "  '主催': '俳句美術館',\n",
       "  '応募リンク': 'http://www.haikubijutsukan.com/contest/contest09/No10_sakuhin.pdf'},\n",
       " {'タイトル': '第2回 「円い町」文学賞 作品募集',\n",
       "  '締切日': '2022-08-31',\n",
       "  '賞金': '【小説・随筆部門】●一席（1名） 賞金3万円●二席（2名） 賞金1万円●佳作（若干名） 賞金5000円【詩部門】●一席（1名） 賞金5000円●二席（2名） 3000円分の図書券●佳作（若干名） 1000円分の図書券',\n",
       "  '募集内容': 'テーマにそった未発表の小説・随筆、または詩※タイトルは不問【テーマ】コミュニケーション（つながる心と心）【部門】（1）小説・随筆部門（2）詩部門',\n",
       "  '応募資格': '国内の精神障がい者の方とその理解者※年齢不問',\n",
       "  '主催': 'サークル「円い町」',\n",
       "  '応募リンク': 'https://www.city.niihama.lg.jp/soshiki/syakyou/madoimatibunngaku20190601.html'},\n",
       " {'タイトル': '第5回 笹井宏之賞',\n",
       "  '締切日': '2022-09-15',\n",
       "  '賞金': '●大賞 賞状、書肆侃侃房から歌集出版●各選考委員による個人賞',\n",
       "  '募集内容': '未発表短歌50首',\n",
       "  '応募資格': '不問',\n",
       "  '主催': '株式会社書肆侃侃房',\n",
       "  '応募リンク': 'http://www.kankanbou.com/news/archives/311'},\n",
       " {'タイトル': '第40回 兜太現代俳句新人賞',\n",
       "  '締切日': '2022-11-30',\n",
       "  '賞金': '●兜太現代俳句新人賞 賞状、現代俳句協会からの句集出版の助成（30万円相当／期限有）',\n",
       "  '募集内容': '未発表の雑詠50句※他への二重投句は不可',\n",
       "  '応募資格': '年齢満50歳未満の方（締切日を基準とする）※ただし本年限りの特例として、2022年11月30日までに満50歳の誕生日を迎える者は応募可とする※現代俳句協会員でなくても応募可',\n",
       "  '主催': '現代俳句協会',\n",
       "  '応募リンク': 'https://gendaihaiku.gr.jp/news/news-8766/'}]"
      ]
     },
     "execution_count": 3,
     "metadata": {},
     "output_type": "execute_result"
    }
   ],
   "source": [
    "# 確認用\n",
    "kobo_info_list"
   ]
  },
  {
   "cell_type": "code",
   "execution_count": 1,
   "id": "577f7481-6714-4bd4-aa28-1715d407933e",
   "metadata": {},
   "outputs": [],
   "source": [
    "import requests\n",
    "import KOBO_URL\n",
    "import time\n",
    "import re\n",
    "import pandas as pd\n",
    "from bs4 import BeautifulSoup\n",
    "\n",
    "# 確認用\n",
    "df_read = pd.read_csv('kobo_scraping.csv', index_col=0)\n",
    "# df_read"
   ]
  },
  {
   "cell_type": "code",
   "execution_count": 1,
   "id": "7b55a60e-161b-4541-82ce-233e29405acd",
   "metadata": {},
   "outputs": [],
   "source": [
    "import requests\n",
    "import KOBO_URL\n",
    "import time\n",
    "import re\n",
    "from bs4 import BeautifulSoup\n",
    "\n",
    "# スクレイピング対象のサイトのURLを取得\n",
    "url1 = KOBO_URL.KOBO_URL1\n",
    "res = requests.get(url1)"
   ]
  },
  {
   "cell_type": "code",
   "execution_count": 2,
   "id": "7d7804dc-d0c8-44b2-976f-1e8a9112066c",
   "metadata": {},
   "outputs": [],
   "source": [
    "# WebサイトのHTML要素を取得\n",
    "soup = BeautifulSoup(res.text, 'html.parser')"
   ]
  },
  {
   "cell_type": "code",
   "execution_count": 3,
   "id": "aa3a1be9-b6fb-48d6-a9aa-52660bc3fc40",
   "metadata": {},
   "outputs": [],
   "source": [
    "# soup"
   ]
  },
  {
   "cell_type": "code",
   "execution_count": 4,
   "id": "13c513fe-3629-4890-a9bb-6db10fecc331",
   "metadata": {},
   "outputs": [],
   "source": [
    "# li要素を取得\n",
    "soup_li = soup.find_all('li', attrs={'class': 'contest-list-item'})"
   ]
  },
  {
   "cell_type": "code",
   "execution_count": 5,
   "id": "313f75c6-0d1d-46bf-9a87-765512e53ddb",
   "metadata": {},
   "outputs": [],
   "source": [
    "# h3要素を取得\n",
    "# soup_h3 = soup_li[0].find_all('h3')"
   ]
  },
  {
   "cell_type": "code",
   "execution_count": 6,
   "id": "c9ca4f8f-ed8c-4d9f-9e4b-ea196694bbc5",
   "metadata": {},
   "outputs": [],
   "source": [
    "# soup_h3"
   ]
  },
  {
   "cell_type": "code",
   "execution_count": 7,
   "id": "8a33efd0-ca02-4c1c-9c7c-c8148f6c97f7",
   "metadata": {},
   "outputs": [],
   "source": [
    "# a要素を取得\n",
    "# soup_a = soup_li[0].find('a')\n",
    "# soup_a = soup_a.get('href')"
   ]
  },
  {
   "cell_type": "code",
   "execution_count": 8,
   "id": "900b923b-f571-4a21-ad03-a47f5446f742",
   "metadata": {},
   "outputs": [],
   "source": [
    "# soup_a"
   ]
  },
  {
   "cell_type": "code",
   "execution_count": 9,
   "id": "af67cf90-fcde-4aba-ac86-fb5be12eb69b",
   "metadata": {},
   "outputs": [],
   "source": [
    "# 応募リンクを配列に格納する\n",
    "link_list = []\n",
    "while_cnt = 0\n",
    "while True:\n",
    "    try:\n",
    "        soup_a = soup_li[while_cnt].find('a')\n",
    "        soup_a = soup_a.get('href')\n",
    "        link_list.append(soup_a)\n",
    "        \n",
    "    except IndexError as e:\n",
    "        break\n",
    "        \n",
    "    while_cnt += 1"
   ]
  },
  {
   "cell_type": "code",
   "execution_count": 10,
   "id": "ab3fc9a3-cc76-40e9-bee2-16ea4b6452ff",
   "metadata": {},
   "outputs": [],
   "source": [
    "# link_list"
   ]
  },
  {
   "cell_type": "code",
   "execution_count": 11,
   "id": "2bc0da7f-5127-4136-9994-71b7e2d9204c",
   "metadata": {},
   "outputs": [],
   "source": [
    "# soup_a_cnt"
   ]
  },
  {
   "cell_type": "code",
   "execution_count": 12,
   "id": "834e6dd7-b63c-4bb0-90e5-a53d02fc965d",
   "metadata": {},
   "outputs": [],
   "source": [
    "kobo_url = link_list[0]"
   ]
  },
  {
   "cell_type": "code",
   "execution_count": 13,
   "id": "9e19739f-2c99-4c78-988a-5a5350802f37",
   "metadata": {},
   "outputs": [],
   "source": [
    "# kobo_url"
   ]
  },
  {
   "cell_type": "code",
   "execution_count": 14,
   "id": "d3411745-d8c3-432c-ac15-462b926b6524",
   "metadata": {},
   "outputs": [],
   "source": [
    "res_kobo = requests.get(kobo_url)"
   ]
  },
  {
   "cell_type": "code",
   "execution_count": 15,
   "id": "2c1b9c6c-f9e8-4f79-9f66-0f7a325a8b34",
   "metadata": {},
   "outputs": [],
   "source": [
    "# res_kobo"
   ]
  },
  {
   "cell_type": "code",
   "execution_count": 16,
   "id": "e7586367-b7f1-4ebf-9d3b-727c68947c98",
   "metadata": {},
   "outputs": [],
   "source": [
    "# 公募の詳細ページのHTML要素を取得\n",
    "soup_kobo = BeautifulSoup(res_kobo.text, 'html.parser')"
   ]
  },
  {
   "cell_type": "code",
   "execution_count": 17,
   "id": "361a71f0-be7d-4c3b-ab7c-9ac0fe289494",
   "metadata": {},
   "outputs": [],
   "source": [
    "# soup_kobo"
   ]
  },
  {
   "cell_type": "code",
   "execution_count": 18,
   "id": "65ba3ba6-40bb-4657-ad1f-0af637e29d6e",
   "metadata": {},
   "outputs": [],
   "source": [
    "soup_kobo_dl = soup_kobo.find_all('dl')"
   ]
  },
  {
   "cell_type": "code",
   "execution_count": 19,
   "id": "c3efa7d3-ac70-4f61-858d-71bcf6c5cd2c",
   "metadata": {},
   "outputs": [],
   "source": [
    "# soup_kobo_dl"
   ]
  },
  {
   "cell_type": "code",
   "execution_count": 20,
   "id": "73b8008f-89e1-4d61-9bca-c717f33fff52",
   "metadata": {},
   "outputs": [],
   "source": [
    "# n = 0\n",
    "# for n in range(30):\n",
    "#     soup_kobo_dt = soup_kobo_dl[n].find_all('dt')\n",
    "        \n",
    "#     if '締切' == soup_kobo_dt[0].text:\n",
    "#         break\n",
    "        \n",
    "# soup_kobo_dd = soup_kobo_dl[n].find_all('dd')\n",
    "# soup_kobo_dd"
   ]
  },
  {
   "cell_type": "code",
   "execution_count": 21,
   "id": "2ac3ff8a-b85f-45a6-9c27-59a4fb5f6150",
   "metadata": {},
   "outputs": [],
   "source": [
    "while_cnt = 0\n",
    "while True:\n",
    "    try:\n",
    "        soup_kobo_dt = soup_kobo_dl[while_cnt].find_all('dt')\n",
    "        \n",
    "        if '締切' == soup_kobo_dt[0].text:\n",
    "            break\n",
    "        \n",
    "    except IndexError as e:\n",
    "        break\n",
    "        \n",
    "    while_cnt += 1"
   ]
  },
  {
   "cell_type": "code",
   "execution_count": 22,
   "id": "bec50660-ac24-450d-8d1f-635aa9e2a9bc",
   "metadata": {},
   "outputs": [],
   "source": [
    "soup_kobo_dt = soup_kobo_dl[while_cnt].find_all('dt')\n",
    "soup_kobo_dd = soup_kobo_dl[while_cnt].find_all('dd')"
   ]
  },
  {
   "cell_type": "code",
   "execution_count": 23,
   "id": "f77e258f-53f1-4bff-a8fe-9cd6d8233a3d",
   "metadata": {},
   "outputs": [],
   "source": [
    "# soup_kobo_dt[0].text"
   ]
  },
  {
   "cell_type": "code",
   "execution_count": 24,
   "id": "b6a90f03-7ab2-40a2-8c64-ebc0e567ff77",
   "metadata": {},
   "outputs": [],
   "source": [
    "# soup_kobo_dd"
   ]
  },
  {
   "cell_type": "code",
   "execution_count": 25,
   "id": "cb0b0f56-1346-42b2-b926-9edbf8289d7d",
   "metadata": {},
   "outputs": [],
   "source": [
    "# kobo_title = soup_kobo_dt[0].text\n",
    "# kobo_feature = soup_kobo_dd[0].text.replace('\\n', '')\n",
    "# kobo_feature = kobo_feature.replace('\\t', '')\n",
    "\n",
    "kobo_title_list = []\n",
    "kobo_feature_list = []"
   ]
  },
  {
   "cell_type": "code",
   "execution_count": 26,
   "id": "1d4deb22-3283-492f-8ac8-63dbc6bfa66e",
   "metadata": {},
   "outputs": [],
   "source": [
    "# len(soup_kobo_dd)"
   ]
  },
  {
   "cell_type": "code",
   "execution_count": 27,
   "id": "8a615cfe-3536-45b8-a68b-9dbe15c9e28a",
   "metadata": {},
   "outputs": [],
   "source": [
    "for n in range(len(soup_kobo_dd)):\n",
    "    kobo_title = soup_kobo_dt[n].text\n",
    "    kobo_feature = soup_kobo_dd[n].text.replace('\\n', '')\n",
    "    kobo_feature = kobo_feature.replace('\\t', '')\n",
    "    kobo_title_list.append(kobo_title)\n",
    "    kobo_feature_list.append(kobo_feature)\n",
    "    "
   ]
  },
  {
   "cell_type": "code",
   "execution_count": 28,
   "id": "ae8641ba-aa72-47fd-8e44-a88b188cc2ec",
   "metadata": {},
   "outputs": [],
   "source": [
    "# kobo_title_list"
   ]
  },
  {
   "cell_type": "code",
   "execution_count": 29,
   "id": "4f000892-a4e7-4e09-89f4-ebbe4ca7c5b8",
   "metadata": {},
   "outputs": [],
   "source": [
    "# kobo_feature_list"
   ]
  },
  {
   "cell_type": "code",
   "execution_count": 30,
   "id": "ad154605-0f26-4afc-a45c-a5dbb335126d",
   "metadata": {},
   "outputs": [],
   "source": [
    "# kobo_info = {}\n",
    "\n",
    "# for n in range(len(soup_kobo_dd)):\n",
    "#     kobo_feature_title = soup_kobo_dt[n].text\n",
    "#     kobo_feature = soup_kobo_dd[n].text.replace('\\n', '')\n",
    "#     kobo_feature = kobo_feature.replace('\\t', '')\n",
    "#     kobo_feature = kobo_feature.replace('\\u3000', ' ')\n",
    "#     # kobo_info.setdefault(soup_kobo_dt[n].text, kobo_feature)\n",
    "#     kobo_info.setdefault(kobo_feature_title, kobo_feature)"
   ]
  },
  {
   "cell_type": "code",
   "execution_count": 31,
   "id": "39f49142-c822-45d7-983a-ee4b8e310f79",
   "metadata": {},
   "outputs": [],
   "source": [
    "# soup_kobo_dt"
   ]
  },
  {
   "cell_type": "code",
   "execution_count": 32,
   "id": "e8f90ba5-d1c4-4984-bada-c091c269e601",
   "metadata": {},
   "outputs": [],
   "source": [
    "# soup_kobo_dt[0].text"
   ]
  },
  {
   "cell_type": "code",
   "execution_count": 33,
   "id": "1aa9ed79-a4e7-40d9-9121-5c3121ed7adc",
   "metadata": {},
   "outputs": [],
   "source": [
    "# soup_kobo_dd[1].text"
   ]
  },
  {
   "cell_type": "code",
   "execution_count": 34,
   "id": "5c381e13-52cc-4aba-8712-2459161fd3ce",
   "metadata": {},
   "outputs": [],
   "source": [
    "# kobo_info_dict = {}\n",
    "kobo_info_list = []\n",
    "\n",
    "# for n in range(len(link_list)):\n",
    "for n in range(2):\n",
    "    # 情報を取得する公募ページに移動してHTTPを取得\n",
    "    kobo_url = link_list[n]\n",
    "    res_kobo = requests.get(kobo_url)\n",
    "    soup_kobo = BeautifulSoup(res_kobo.text, 'html.parser')\n",
    "    soup_kobo_dl = soup_kobo.find_all('dl')\n",
    "    # soup_kobo_dt = soup_kobo_dl[3].find_all('dt')\n",
    "    # soup_kobo_dd = soup_kobo_dl[3].find_all('dd')\n",
    "    \n",
    "    while_cnt = 0\n",
    "    while True:\n",
    "        try:\n",
    "            soup_kobo_dt = soup_kobo_dl[while_cnt].find_all('dt')\n",
    "            if '締切' == soup_kobo_dt[0].text:\n",
    "                break\n",
    "        except IndexError as e:\n",
    "            break\n",
    "        while_cnt += 1\n",
    "    \n",
    "    soup_kobo_dd = soup_kobo_dl[while_cnt].find_all('dd')\n",
    "    \n",
    "    kobo_info = {}\n",
    "    \n",
    "    # タイトルを追加\n",
    "    kobo_title = soup_li[n].find_all('h3')\n",
    "    kobo_title = kobo_title[0].text.replace('\\u3000', '')\n",
    "    kobo_info.setdefault('タイトル', kobo_title)\n",
    "    \n",
    "    # 応募リンクを追加\n",
    "    obo_link = ''\n",
    "    # 川柳の詳細ページのHTML要素の<a>タグのclass='btn-koushiki'の要素を取得\n",
    "    obo_link = soup_kobo.find_all('a', attrs={'class': 'btn-koushiki'})\n",
    "    obo_link = obo_link[0].get('href')\n",
    "    # 応募リンクをkobo_infoに追加\n",
    "    kobo_info.setdefault('応募リンク', obo_link)\n",
    "    \n",
    "    # 公募概要情報の取得・配列に格納\n",
    "    for j in range(len(soup_kobo_dd)):\n",
    "        kobo_feature_title = soup_kobo_dt[j].text\n",
    "        kobo_feature_title = kobo_feature_title.replace('\\u3000', ' ')\n",
    "        \n",
    "        # 項目名をデータベースのカラム名に変換\n",
    "        if '締切' == kobo_feature_title:\n",
    "            kobo_feature_title = '締切日'\n",
    "            \n",
    "            # 日付だけを抽出\n",
    "            kobo_feature = soup_kobo_dd[j].text.replace('\\u3000', ' ')\n",
    "            kobo_feature = kobo_feature.replace('\\n', '')\n",
    "            kobo_feature = kobo_feature.replace('\\t', '')\n",
    "            kobo_feature = kobo_feature.replace('\\r', '')\n",
    "            kobo_feature = re.match('20\\d\\d.\\d\\d.\\d\\d.', kobo_feature)\n",
    "            kobo_feature =  str(kobo_feature.group())\n",
    "            kobo_feature = kobo_feature.replace('年', '-')\n",
    "            kobo_feature = kobo_feature.replace('月', '-')\n",
    "            kobo_feature = kobo_feature.replace('日', '')\n",
    "            kobo_info.setdefault(kobo_feature_title, kobo_feature)\n",
    "            \n",
    "            continue\n",
    "            \n",
    "        elif '賞' == kobo_feature_title:\n",
    "            kobo_feature_title = '賞金'\n",
    "        elif '募集内容' == kobo_feature_title:\n",
    "            kobo_feature_title = '募集内容'\n",
    "        elif '参加資格' == kobo_feature_title:\n",
    "            kobo_feature_title = '応募資格'\n",
    "        elif '主催' == kobo_feature_title:\n",
    "            kobo_feature_title = '主催'\n",
    "        else:\n",
    "            continue\n",
    "        \n",
    "        # HTML要素のテキストだけを取り出す\n",
    "        kobo_feature = soup_kobo_dd[j].text.replace('\\u3000', ' ')\n",
    "        kobo_feature = kobo_feature.replace('\\n', '')\n",
    "        kobo_feature = kobo_feature.replace('\\t', '')\n",
    "        kobo_feature = kobo_feature.replace('\\r', '')\n",
    "        kobo_info.setdefault(kobo_feature_title, kobo_feature)\n",
    "        \n",
    "    # kobo_infoの中身を並び替える\n",
    "    kobo_sort = {}\n",
    "    kobo_sort.setdefault('タイトル', kobo_info['タイトル'])\n",
    "    kobo_sort.setdefault('締切日', kobo_info['締切日'])\n",
    "    kobo_sort.setdefault('賞金', kobo_info['賞金'])\n",
    "    kobo_sort.setdefault('募集内容', kobo_info['募集内容'])\n",
    "    kobo_sort.setdefault('応募資格', kobo_info['応募資格'])\n",
    "    kobo_sort.setdefault('主催', kobo_info['主催'])\n",
    "    kobo_sort.setdefault('応募リンク', kobo_info['応募リンク'])\n",
    "    \n",
    "    # 公募情報を配列に格納\n",
    "    # kobo_title = soup_li[n].find_all('h3')\n",
    "    # kobo_title = kobo_title[0].text.replace('\\u3000', '')\n",
    "    # kobo_info_dict.setdefault(kobo_title, kobo_info)\n",
    "    \n",
    "    kobo_info_list.append(kobo_sort)\n",
    "    \n",
    "    # サーバへの負荷を下げるためにsleep\n",
    "    time.sleep(3)"
   ]
  },
  {
   "cell_type": "code",
   "execution_count": 35,
   "id": "dddeb1a4-f98e-459d-83f8-4c5ce04ab146",
   "metadata": {},
   "outputs": [
    {
     "data": {
      "text/plain": [
       "{'タイトル': '第3回 私のSDGsコンテスト',\n",
       " '締切日': '2022-02-13',\n",
       " '賞金': '●大賞 10万円分の図書カード●シャボン玉石けん賞 賞品●北九州市長賞 賞品●朝日新聞社賞 折り畳み自転車●魚町銀天街振興組合賞 商品券●スターフライヤー賞 賞品●ギラヴァンツ北九州賞 選手サイン入りユニフォーム●資さんうどん賞 資さんうどん商品セット●小学生優秀賞 1万円分の図書カード●中学生優秀賞 1万円分の図書カード●高校生優秀賞 1万円分の図書カード※川柳部門・フォト部門それぞれに大賞・各賞あり',\n",
       " '募集内容': 'テーマにそった川柳または写真※未発表のオリジナル作品に限る【テーマ】17あるSDGsの目標（公式ホームページを参照）から一つを選び、自分が身近にできること、思うことを考えること【部門】（1）川柳部門（2）フォト部門',\n",
       " '応募資格': '不問',\n",
       " '主催': 'シャボン玉石けん株式会社、株式会社朝日新聞社、北九州市（SDGs未来都市）',\n",
       " '応募リンク': 'https://www.asahi.com/ads/my-sdgs-contest/'}"
      ]
     },
     "execution_count": 35,
     "metadata": {},
     "output_type": "execute_result"
    }
   ],
   "source": [
    "# 確認用\n",
    "kobo_sort"
   ]
  },
  {
   "cell_type": "code",
   "execution_count": 36,
   "id": "e4f2d8dd-19a5-4534-ae01-ee859350bc59",
   "metadata": {},
   "outputs": [
    {
     "data": {
      "text/plain": [
       "[{'タイトル': '第6回 オリックス 働くパパママ川柳 作品募集',\n",
       "  '締切日': '2022-02-11',\n",
       "  '賞金': '●大賞（1句） 賞金20万円、オリックスグループが運営する4施設から選べる1泊2食付きホテル宿泊券（1組2名分）●パパママ目線賞（6句） ダイソン Dyson Supersonic Ionic ヘアドライヤー●子ども目線賞（1句） ブルーノ ホットプレート グランデサイズ●じぃじばぁば目線賞（1句） 2万円分のダスキン 選んで使えるおそうじギフトカード●優秀賞（10句） 1万円分のAmazonギフト券',\n",
       "  '募集内容': '働きながら子育てに奮闘するパパとママの日常をテーマとする川柳※応募者の自作未発表作品に限る',\n",
       "  '応募資格': '既婚未婚、年齢不問',\n",
       "  '主催': 'オリックスグループ',\n",
       "  '応募リンク': 'https://www.orix.co.jp/grp/move_on/entry/orix-senryu/vol6'},\n",
       " {'タイトル': '第3回 私のSDGsコンテスト',\n",
       "  '締切日': '2022-02-13',\n",
       "  '賞金': '●大賞 10万円分の図書カード●シャボン玉石けん賞 賞品●北九州市長賞 賞品●朝日新聞社賞 折り畳み自転車●魚町銀天街振興組合賞 商品券●スターフライヤー賞 賞品●ギラヴァンツ北九州賞 選手サイン入りユニフォーム●資さんうどん賞 資さんうどん商品セット●小学生優秀賞 1万円分の図書カード●中学生優秀賞 1万円分の図書カード●高校生優秀賞 1万円分の図書カード※川柳部門・フォト部門それぞれに大賞・各賞あり',\n",
       "  '募集内容': 'テーマにそった川柳または写真※未発表のオリジナル作品に限る【テーマ】17あるSDGsの目標（公式ホームページを参照）から一つを選び、自分が身近にできること、思うことを考えること【部門】（1）川柳部門（2）フォト部門',\n",
       "  '応募資格': '不問',\n",
       "  '主催': 'シャボン玉石けん株式会社、株式会社朝日新聞社、北九州市（SDGs未来都市）',\n",
       "  '応募リンク': 'https://www.asahi.com/ads/my-sdgs-contest/'}]"
      ]
     },
     "execution_count": 36,
     "metadata": {},
     "output_type": "execute_result"
    }
   ],
   "source": [
    "# 確認用\n",
    "kobo_info_list"
   ]
  },
  {
   "cell_type": "code",
   "execution_count": 37,
   "id": "5f83678a-9e11-44b5-8d54-b5850d17bd44",
   "metadata": {},
   "outputs": [],
   "source": [
    "# csvで出力\n",
    "import pandas as pd\n",
    "\n",
    "df = pd.DataFrame(kobo_info_list)\n",
    "\n",
    "# excelで文字化けしないようにutf_8_sigでエンコード\n",
    "df.to_csv('kobo_scraping.csv', encoding='utf_8_sig', index = False)"
   ]
  },
  {
   "cell_type": "code",
   "execution_count": 36,
   "id": "5a71c94f-cd21-47eb-8757-95722f58accb",
   "metadata": {},
   "outputs": [],
   "source": [
    "# kobo_info_list"
   ]
  },
  {
   "cell_type": "code",
   "execution_count": 38,
   "id": "30c1e91f-fb91-46b1-b882-80d47acb0835",
   "metadata": {},
   "outputs": [
    {
     "data": {
      "text/html": [
       "<div>\n",
       "<style scoped>\n",
       "    .dataframe tbody tr th:only-of-type {\n",
       "        vertical-align: middle;\n",
       "    }\n",
       "\n",
       "    .dataframe tbody tr th {\n",
       "        vertical-align: top;\n",
       "    }\n",
       "\n",
       "    .dataframe thead th {\n",
       "        text-align: right;\n",
       "    }\n",
       "</style>\n",
       "<table border=\"1\" class=\"dataframe\">\n",
       "  <thead>\n",
       "    <tr style=\"text-align: right;\">\n",
       "      <th></th>\n",
       "      <th>締切日</th>\n",
       "      <th>賞金</th>\n",
       "      <th>募集内容</th>\n",
       "      <th>応募資格</th>\n",
       "      <th>主催</th>\n",
       "      <th>応募リンク</th>\n",
       "    </tr>\n",
       "    <tr>\n",
       "      <th>タイトル</th>\n",
       "      <th></th>\n",
       "      <th></th>\n",
       "      <th></th>\n",
       "      <th></th>\n",
       "      <th></th>\n",
       "      <th></th>\n",
       "    </tr>\n",
       "  </thead>\n",
       "  <tbody>\n",
       "    <tr>\n",
       "      <th>第6回 オリックス 働くパパママ川柳 作品募集</th>\n",
       "      <td>2022-02-11</td>\n",
       "      <td>●大賞（1句） 賞金20万円、オリックスグループが運営する4施設から選べる1泊2食付きホテル...</td>\n",
       "      <td>働きながら子育てに奮闘するパパとママの日常をテーマとする川柳※応募者の自作未発表作品に限る</td>\n",
       "      <td>既婚未婚、年齢不問</td>\n",
       "      <td>オリックスグループ</td>\n",
       "      <td>https://www.orix.co.jp/grp/move_on/entry/orix-...</td>\n",
       "    </tr>\n",
       "    <tr>\n",
       "      <th>第3回 私のSDGsコンテスト</th>\n",
       "      <td>2022-02-13</td>\n",
       "      <td>●大賞 10万円分の図書カード●シャボン玉石けん賞 賞品●北九州市長賞 賞品●朝日新聞社賞 ...</td>\n",
       "      <td>テーマにそった川柳または写真※未発表のオリジナル作品に限る【テーマ】17あるSDGsの目標（...</td>\n",
       "      <td>不問</td>\n",
       "      <td>シャボン玉石けん株式会社、株式会社朝日新聞社、北九州市（SDGs未来都市）</td>\n",
       "      <td>https://www.asahi.com/ads/my-sdgs-contest/</td>\n",
       "    </tr>\n",
       "  </tbody>\n",
       "</table>\n",
       "</div>"
      ],
      "text/plain": [
       "                                締切日  \\\n",
       "タイトル                                  \n",
       "第6回 オリックス 働くパパママ川柳 作品募集  2022-02-11   \n",
       "第3回 私のSDGsコンテスト          2022-02-13   \n",
       "\n",
       "                                                                        賞金  \\\n",
       "タイトル                                                                         \n",
       "第6回 オリックス 働くパパママ川柳 作品募集  ●大賞（1句） 賞金20万円、オリックスグループが運営する4施設から選べる1泊2食付きホテル...   \n",
       "第3回 私のSDGsコンテスト          ●大賞 10万円分の図書カード●シャボン玉石けん賞 賞品●北九州市長賞 賞品●朝日新聞社賞 ...   \n",
       "\n",
       "                                                                      募集内容  \\\n",
       "タイトル                                                                         \n",
       "第6回 オリックス 働くパパママ川柳 作品募集      働きながら子育てに奮闘するパパとママの日常をテーマとする川柳※応募者の自作未発表作品に限る   \n",
       "第3回 私のSDGsコンテスト          テーマにそった川柳または写真※未発表のオリジナル作品に限る【テーマ】17あるSDGsの目標（...   \n",
       "\n",
       "                              応募資格                                     主催  \\\n",
       "タイトル                                                                        \n",
       "第6回 オリックス 働くパパママ川柳 作品募集  既婚未婚、年齢不問                              オリックスグループ   \n",
       "第3回 私のSDGsコンテスト                 不問  シャボン玉石けん株式会社、株式会社朝日新聞社、北九州市（SDGs未来都市）   \n",
       "\n",
       "                                                                     応募リンク  \n",
       "タイトル                                                                        \n",
       "第6回 オリックス 働くパパママ川柳 作品募集  https://www.orix.co.jp/grp/move_on/entry/orix-...  \n",
       "第3回 私のSDGsコンテスト                 https://www.asahi.com/ads/my-sdgs-contest/  "
      ]
     },
     "execution_count": 38,
     "metadata": {},
     "output_type": "execute_result"
    }
   ],
   "source": [
    "df_read = pd.read_csv('kobo_scraping.csv', index_col=0)\n",
    "df_read"
   ]
  },
  {
   "cell_type": "code",
   "execution_count": 84,
   "id": "d07146e8-248d-4f7e-92a9-3d30eb725732",
   "metadata": {},
   "outputs": [
    {
     "data": {
      "text/plain": [
       "'2022年02月11日 (金)作品提出・応募締切、必着'"
      ]
     },
     "execution_count": 84,
     "metadata": {},
     "output_type": "execute_result"
    }
   ],
   "source": [
    "# 締切日をchar型からdate型に変換する\n",
    "\n",
    "str_date = '2022年02月11日 (金)作品提出・応募締切、必着'\n",
    "str_date"
   ]
  },
  {
   "cell_type": "code",
   "execution_count": 85,
   "id": "8697659a-fabb-4824-992c-d842e4bf3774",
   "metadata": {},
   "outputs": [
    {
     "data": {
      "text/plain": [
       "'2022年02月11日'"
      ]
     },
     "execution_count": 85,
     "metadata": {},
     "output_type": "execute_result"
    }
   ],
   "source": [
    "import re\n",
    "\n",
    "# pattern = '(20\\d\\d.月)'\n",
    "pattern = '20\\d\\d.\\d\\d.\\d\\d.'\n",
    "\n",
    "str_date = re.match(pattern, str_date)\n",
    "str_date =  str(str_date.group())\n",
    "str_date"
   ]
  },
  {
   "cell_type": "code",
   "execution_count": 86,
   "id": "938f5a31-dc9c-4b7e-baa9-7bdb9d919507",
   "metadata": {},
   "outputs": [
    {
     "data": {
      "text/plain": [
       "'2022-02-11'"
      ]
     },
     "execution_count": 86,
     "metadata": {},
     "output_type": "execute_result"
    }
   ],
   "source": [
    "str_date = str_date.replace('年', '-')\n",
    "str_date = str_date.replace('月', '-')\n",
    "str_date = str_date.replace('日', '')\n",
    "str_date"
   ]
  },
  {
   "cell_type": "code",
   "execution_count": 78,
   "id": "2d78796a-74da-44eb-abbb-41d51c4c673a",
   "metadata": {},
   "outputs": [
    {
     "name": "stdout",
     "output_type": "stream",
     "text": [
      "2022-02-11 00:00:00\n"
     ]
    }
   ],
   "source": [
    "from datetime import datetime\n",
    "\n",
    "mydate = datetime.strptime(str_date, '%Y年%m月%d日')\n",
    "print(mydate)"
   ]
  },
  {
   "cell_type": "code",
   "execution_count": null,
   "id": "1bd7c873-8a12-44d8-8d74-754859cd5984",
   "metadata": {},
   "outputs": [],
   "source": []
  }
 ],
 "metadata": {
  "kernelspec": {
   "display_name": "Python 3 (ipykernel)",
   "language": "python",
   "name": "python3"
  },
  "language_info": {
   "codemirror_mode": {
    "name": "ipython",
    "version": 3
   },
   "file_extension": ".py",
   "mimetype": "text/x-python",
   "name": "python",
   "nbconvert_exporter": "python",
   "pygments_lexer": "ipython3",
   "version": "3.9.7"
  }
 },
 "nbformat": 4,
 "nbformat_minor": 5
}
