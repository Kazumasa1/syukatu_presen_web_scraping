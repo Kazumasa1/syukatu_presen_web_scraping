{
 "cells": [
  {
   "cell_type": "code",
   "execution_count": 1,
   "id": "b004cf1a-7637-41ba-84b4-09d58044e20a",
   "metadata": {},
   "outputs": [],
   "source": [
    "import requests\n",
    "import KOBO_URL\n",
    "import time\n",
    "from bs4 import BeautifulSoup\n",
    "\n",
    "# スクレイピング対象のサイトのURLを取得\n",
    "url1 = KOBO_URL.KOBO_URL1\n",
    "res = requests.get(url1)\n",
    "\n",
    "# WebサイトのHTML要素を取得\n",
    "soup = BeautifulSoup(res.text, 'html.parser')\n",
    "\n",
    "# li要素を取得\n",
    "soup_li = soup.find_all('li', attrs={'class': 'contest-list-item'})\n",
    "\n",
    "# 応募リンクを配列に格納する\n",
    "link_list = []\n",
    "while_cnt = 0\n",
    "while True:\n",
    "    try:\n",
    "        soup_a = soup_li[while_cnt].find('a')\n",
    "        soup_a = soup_a.get('href')\n",
    "        link_list.append(soup_a)\n",
    "        \n",
    "    except IndexError as e:\n",
    "        break\n",
    "        \n",
    "    while_cnt += 1\n",
    "\n",
    "\n",
    "kobo_title_list = []\n",
    "kobo_feature_list = []\n",
    "kobo_info_list = []\n",
    "\n",
    "\n",
    "# for n in range(len(link_list)):\n",
    "for n in range(2):\n",
    "    # 情報を取得する公募ページに移動してHTTPを取得\n",
    "    kobo_url = link_list[n]\n",
    "    res_kobo = requests.get(kobo_url)\n",
    "    soup_kobo = BeautifulSoup(res_kobo.text, 'html.parser')\n",
    "    soup_kobo_dl = soup_kobo.find_all('dl')\n",
    "    \n",
    "    while_cnt = 0\n",
    "    while True:\n",
    "        try:\n",
    "            soup_kobo_dt = soup_kobo_dl[while_cnt].find_all('dt')\n",
    "            if '締切' == soup_kobo_dt[0].text:\n",
    "                break\n",
    "        except IndexError as e:\n",
    "            break\n",
    "        while_cnt += 1\n",
    "    \n",
    "    soup_kobo_dd = soup_kobo_dl[while_cnt].find_all('dd')\n",
    "    \n",
    "    kobo_info = {}\n",
    "    \n",
    "    # タイトルを追加\n",
    "    kobo_title = soup_li[n].find_all('h3')\n",
    "    kobo_title = kobo_title[0].text.replace('\\u3000', '')\n",
    "    kobo_info.setdefault('タイトル', kobo_title)\n",
    "    \n",
    "    # 応募リンクを追加\n",
    "    obo_link = ''\n",
    "    # 川柳の詳細ページのHTML要素の<a>タグのclass='btn-koushiki'の要素を取得\n",
    "    obo_link = soup_kobo.find_all('a', attrs={'class': 'btn-koushiki'})\n",
    "    obo_link = obo_link[0].get('href')\n",
    "    # 応募リンクをkobo_infoに追加\n",
    "    kobo_info.setdefault('応募リンク', obo_link)\n",
    "    \n",
    "    # 公募概要情報の取得・配列に格納\n",
    "    for j in range(len(soup_kobo_dd)):\n",
    "        kobo_feature_title = soup_kobo_dt[j].text\n",
    "        kobo_feature_title = kobo_feature_title.replace('\\u3000', ' ')\n",
    "        \n",
    "        # 項目名をデータベースのカラム名に変換\n",
    "        if '締切' == kobo_feature_title:\n",
    "            kobo_feature_title = '締切日'\n",
    "        elif '賞' == kobo_feature_title:\n",
    "            kobo_feature_title = '賞金'\n",
    "        elif '募集内容' == kobo_feature_title:\n",
    "            kobo_feature_title = '募集内容'\n",
    "        elif '参加資格' == kobo_feature_title:\n",
    "            kobo_feature_title = '応募資格'\n",
    "        elif '主催' == kobo_feature_title:\n",
    "            kobo_feature_title = '主催'\n",
    "        else:\n",
    "            continue\n",
    "        \n",
    "        # HTML要素のテキストだけを取り出す\n",
    "        kobo_feature = soup_kobo_dd[j].text.replace('\\u3000', ' ')\n",
    "        kobo_feature = kobo_feature.replace('\\n', '')\n",
    "        kobo_feature = kobo_feature.replace('\\t', '')\n",
    "        kobo_feature = kobo_feature.replace('\\r', '')\n",
    "        kobo_info.setdefault(kobo_feature_title, kobo_feature)\n",
    "        \n",
    "    # kobo_infoの中身を並び替える\n",
    "    kobo_sort = {}\n",
    "    kobo_sort.setdefault('タイトル', kobo_info['タイトル'])\n",
    "    kobo_sort.setdefault('締切日', kobo_info['締切日'])\n",
    "    kobo_sort.setdefault('賞金', kobo_info['賞金'])\n",
    "    kobo_sort.setdefault('募集内容', kobo_info['募集内容'])\n",
    "    kobo_sort.setdefault('応募資格', kobo_info['応募資格'])\n",
    "    kobo_sort.setdefault('主催', kobo_info['主催'])\n",
    "    kobo_sort.setdefault('応募リンク', kobo_info['応募リンク'])\n",
    "    \n",
    "    # 公募情報を配列に格納\n",
    "    kobo_info_list.append(kobo_sort)\n",
    "    \n",
    "    # サーバへの負荷を下げるためにsleep\n",
    "    time.sleep(3)"
   ]
  },
  {
   "cell_type": "code",
   "execution_count": 39,
   "id": "c77c8b1b-7531-4bb4-896b-446a1b486612",
   "metadata": {},
   "outputs": [],
   "source": [
    "# 確認用\n",
    "# kobo_sort"
   ]
  },
  {
   "cell_type": "code",
   "execution_count": 38,
   "id": "75f7ca7f-8cb6-4524-9084-3fd15eb99056",
   "metadata": {},
   "outputs": [],
   "source": [
    "# 確認用\n",
    "# kobo_info_list"
   ]
  },
  {
   "cell_type": "code",
   "execution_count": null,
   "id": "7b55a60e-161b-4541-82ce-233e29405acd",
   "metadata": {},
   "outputs": [],
   "source": [
    "import requests\n",
    "import KOBO_URL\n",
    "import time\n",
    "from bs4 import BeautifulSoup\n",
    "\n",
    "# スクレイピング対象のサイトのURLを取得\n",
    "url1 = KOBO_URL.KOBO_URL1\n",
    "res = requests.get(url1)"
   ]
  },
  {
   "cell_type": "code",
   "execution_count": 2,
   "id": "7d7804dc-d0c8-44b2-976f-1e8a9112066c",
   "metadata": {},
   "outputs": [],
   "source": [
    "# WebサイトのHTML要素を取得\n",
    "soup = BeautifulSoup(res.text, 'html.parser')"
   ]
  },
  {
   "cell_type": "code",
   "execution_count": 3,
   "id": "aa3a1be9-b6fb-48d6-a9aa-52660bc3fc40",
   "metadata": {},
   "outputs": [],
   "source": [
    "# soup"
   ]
  },
  {
   "cell_type": "code",
   "execution_count": 4,
   "id": "13c513fe-3629-4890-a9bb-6db10fecc331",
   "metadata": {},
   "outputs": [],
   "source": [
    "# li要素を取得\n",
    "soup_li = soup.find_all('li', attrs={'class': 'contest-list-item'})"
   ]
  },
  {
   "cell_type": "code",
   "execution_count": 6,
   "id": "313f75c6-0d1d-46bf-9a87-765512e53ddb",
   "metadata": {},
   "outputs": [],
   "source": [
    "# h3要素を取得\n",
    "# soup_h3 = soup_li[0].find_all('h3')"
   ]
  },
  {
   "cell_type": "code",
   "execution_count": 7,
   "id": "c9ca4f8f-ed8c-4d9f-9e4b-ea196694bbc5",
   "metadata": {},
   "outputs": [],
   "source": [
    "# soup_h3"
   ]
  },
  {
   "cell_type": "code",
   "execution_count": 8,
   "id": "8a33efd0-ca02-4c1c-9c7c-c8148f6c97f7",
   "metadata": {},
   "outputs": [],
   "source": [
    "# a要素を取得\n",
    "# soup_a = soup_li[0].find('a')\n",
    "# soup_a = soup_a.get('href')"
   ]
  },
  {
   "cell_type": "code",
   "execution_count": 9,
   "id": "900b923b-f571-4a21-ad03-a47f5446f742",
   "metadata": {},
   "outputs": [],
   "source": [
    "# soup_a"
   ]
  },
  {
   "cell_type": "code",
   "execution_count": 10,
   "id": "af67cf90-fcde-4aba-ac86-fb5be12eb69b",
   "metadata": {},
   "outputs": [],
   "source": [
    "# 応募リンクを配列に格納する\n",
    "link_list = []\n",
    "while_cnt = 0\n",
    "while True:\n",
    "    try:\n",
    "        soup_a = soup_li[while_cnt].find('a')\n",
    "        soup_a = soup_a.get('href')\n",
    "        link_list.append(soup_a)\n",
    "        \n",
    "    except IndexError as e:\n",
    "        break\n",
    "        \n",
    "    while_cnt += 1"
   ]
  },
  {
   "cell_type": "code",
   "execution_count": 11,
   "id": "ab3fc9a3-cc76-40e9-bee2-16ea4b6452ff",
   "metadata": {},
   "outputs": [],
   "source": [
    "# link_list"
   ]
  },
  {
   "cell_type": "code",
   "execution_count": 12,
   "id": "2bc0da7f-5127-4136-9994-71b7e2d9204c",
   "metadata": {},
   "outputs": [],
   "source": [
    "# soup_a_cnt"
   ]
  },
  {
   "cell_type": "code",
   "execution_count": 13,
   "id": "834e6dd7-b63c-4bb0-90e5-a53d02fc965d",
   "metadata": {},
   "outputs": [],
   "source": [
    "kobo_url = link_list[0]"
   ]
  },
  {
   "cell_type": "code",
   "execution_count": 14,
   "id": "9e19739f-2c99-4c78-988a-5a5350802f37",
   "metadata": {},
   "outputs": [],
   "source": [
    "# kobo_url"
   ]
  },
  {
   "cell_type": "code",
   "execution_count": 15,
   "id": "d3411745-d8c3-432c-ac15-462b926b6524",
   "metadata": {},
   "outputs": [],
   "source": [
    "res_kobo = requests.get(kobo_url)"
   ]
  },
  {
   "cell_type": "code",
   "execution_count": 16,
   "id": "2c1b9c6c-f9e8-4f79-9f66-0f7a325a8b34",
   "metadata": {},
   "outputs": [],
   "source": [
    "# res_kobo"
   ]
  },
  {
   "cell_type": "code",
   "execution_count": 17,
   "id": "e7586367-b7f1-4ebf-9d3b-727c68947c98",
   "metadata": {},
   "outputs": [],
   "source": [
    "# 公募の詳細ページのHTML要素を取得\n",
    "soup_kobo = BeautifulSoup(res_kobo.text, 'html.parser')"
   ]
  },
  {
   "cell_type": "code",
   "execution_count": 18,
   "id": "361a71f0-be7d-4c3b-ab7c-9ac0fe289494",
   "metadata": {},
   "outputs": [],
   "source": [
    "# soup_kobo"
   ]
  },
  {
   "cell_type": "code",
   "execution_count": 19,
   "id": "65ba3ba6-40bb-4657-ad1f-0af637e29d6e",
   "metadata": {},
   "outputs": [],
   "source": [
    "soup_kobo_dl = soup_kobo.find_all('dl')"
   ]
  },
  {
   "cell_type": "code",
   "execution_count": 20,
   "id": "c3efa7d3-ac70-4f61-858d-71bcf6c5cd2c",
   "metadata": {},
   "outputs": [],
   "source": [
    "# soup_kobo_dl"
   ]
  },
  {
   "cell_type": "code",
   "execution_count": 21,
   "id": "73b8008f-89e1-4d61-9bca-c717f33fff52",
   "metadata": {},
   "outputs": [],
   "source": [
    "# n = 0\n",
    "# for n in range(30):\n",
    "#     soup_kobo_dt = soup_kobo_dl[n].find_all('dt')\n",
    "        \n",
    "#     if '締切' == soup_kobo_dt[0].text:\n",
    "#         break\n",
    "        \n",
    "# soup_kobo_dd = soup_kobo_dl[n].find_all('dd')\n",
    "# soup_kobo_dd"
   ]
  },
  {
   "cell_type": "code",
   "execution_count": 22,
   "id": "2ac3ff8a-b85f-45a6-9c27-59a4fb5f6150",
   "metadata": {},
   "outputs": [],
   "source": [
    "while_cnt = 0\n",
    "while True:\n",
    "    try:\n",
    "        soup_kobo_dt = soup_kobo_dl[while_cnt].find_all('dt')\n",
    "        \n",
    "        if '締切' == soup_kobo_dt[0].text:\n",
    "            break\n",
    "        \n",
    "    except IndexError as e:\n",
    "        break\n",
    "        \n",
    "    while_cnt += 1"
   ]
  },
  {
   "cell_type": "code",
   "execution_count": 23,
   "id": "bec50660-ac24-450d-8d1f-635aa9e2a9bc",
   "metadata": {},
   "outputs": [],
   "source": [
    "soup_kobo_dt = soup_kobo_dl[while_cnt].find_all('dt')\n",
    "soup_kobo_dd = soup_kobo_dl[while_cnt].find_all('dd')"
   ]
  },
  {
   "cell_type": "code",
   "execution_count": 24,
   "id": "f77e258f-53f1-4bff-a8fe-9cd6d8233a3d",
   "metadata": {},
   "outputs": [],
   "source": [
    "# soup_kobo_dt[0].text"
   ]
  },
  {
   "cell_type": "code",
   "execution_count": 25,
   "id": "b6a90f03-7ab2-40a2-8c64-ebc0e567ff77",
   "metadata": {},
   "outputs": [],
   "source": [
    "# soup_kobo_dd"
   ]
  },
  {
   "cell_type": "code",
   "execution_count": 26,
   "id": "cb0b0f56-1346-42b2-b926-9edbf8289d7d",
   "metadata": {},
   "outputs": [],
   "source": [
    "# kobo_title = soup_kobo_dt[0].text\n",
    "# kobo_feature = soup_kobo_dd[0].text.replace('\\n', '')\n",
    "# kobo_feature = kobo_feature.replace('\\t', '')\n",
    "\n",
    "kobo_title_list = []\n",
    "kobo_feature_list = []"
   ]
  },
  {
   "cell_type": "code",
   "execution_count": 27,
   "id": "1d4deb22-3283-492f-8ac8-63dbc6bfa66e",
   "metadata": {},
   "outputs": [],
   "source": [
    "# len(soup_kobo_dd)"
   ]
  },
  {
   "cell_type": "code",
   "execution_count": 28,
   "id": "8a615cfe-3536-45b8-a68b-9dbe15c9e28a",
   "metadata": {},
   "outputs": [],
   "source": [
    "for n in range(len(soup_kobo_dd)):\n",
    "    kobo_title = soup_kobo_dt[n].text\n",
    "    kobo_feature = soup_kobo_dd[n].text.replace('\\n', '')\n",
    "    kobo_feature = kobo_feature.replace('\\t', '')\n",
    "    kobo_title_list.append(kobo_title)\n",
    "    kobo_feature_list.append(kobo_feature)\n",
    "    "
   ]
  },
  {
   "cell_type": "code",
   "execution_count": 29,
   "id": "ae8641ba-aa72-47fd-8e44-a88b188cc2ec",
   "metadata": {},
   "outputs": [],
   "source": [
    "# kobo_title_list"
   ]
  },
  {
   "cell_type": "code",
   "execution_count": 30,
   "id": "4f000892-a4e7-4e09-89f4-ebbe4ca7c5b8",
   "metadata": {},
   "outputs": [],
   "source": [
    "# kobo_feature_list"
   ]
  },
  {
   "cell_type": "code",
   "execution_count": 31,
   "id": "ad154605-0f26-4afc-a45c-a5dbb335126d",
   "metadata": {},
   "outputs": [],
   "source": [
    "# kobo_info = {}\n",
    "\n",
    "# for n in range(len(soup_kobo_dd)):\n",
    "#     kobo_feature_title = soup_kobo_dt[n].text\n",
    "#     kobo_feature = soup_kobo_dd[n].text.replace('\\n', '')\n",
    "#     kobo_feature = kobo_feature.replace('\\t', '')\n",
    "#     kobo_feature = kobo_feature.replace('\\u3000', ' ')\n",
    "#     # kobo_info.setdefault(soup_kobo_dt[n].text, kobo_feature)\n",
    "#     kobo_info.setdefault(kobo_feature_title, kobo_feature)"
   ]
  },
  {
   "cell_type": "code",
   "execution_count": 32,
   "id": "39f49142-c822-45d7-983a-ee4b8e310f79",
   "metadata": {},
   "outputs": [],
   "source": [
    "# soup_kobo_dt"
   ]
  },
  {
   "cell_type": "code",
   "execution_count": 33,
   "id": "e8f90ba5-d1c4-4984-bada-c091c269e601",
   "metadata": {},
   "outputs": [],
   "source": [
    "# soup_kobo_dt[0].text"
   ]
  },
  {
   "cell_type": "code",
   "execution_count": 34,
   "id": "1aa9ed79-a4e7-40d9-9121-5c3121ed7adc",
   "metadata": {},
   "outputs": [],
   "source": [
    "# soup_kobo_dd[1].text"
   ]
  },
  {
   "cell_type": "code",
   "execution_count": 35,
   "id": "5c381e13-52cc-4aba-8712-2459161fd3ce",
   "metadata": {},
   "outputs": [],
   "source": [
    "# kobo_info_dict = {}\n",
    "kobo_info_list = []\n",
    "\n",
    "for n in range(len(link_list)):\n",
    "# for n in range(2):\n",
    "    # 情報を取得する公募ページに移動してHTTPを取得\n",
    "    kobo_url = link_list[n]\n",
    "    res_kobo = requests.get(kobo_url)\n",
    "    soup_kobo = BeautifulSoup(res_kobo.text, 'html.parser')\n",
    "    soup_kobo_dl = soup_kobo.find_all('dl')\n",
    "    # soup_kobo_dt = soup_kobo_dl[3].find_all('dt')\n",
    "    # soup_kobo_dd = soup_kobo_dl[3].find_all('dd')\n",
    "    \n",
    "    while_cnt = 0\n",
    "    while True:\n",
    "        try:\n",
    "            soup_kobo_dt = soup_kobo_dl[while_cnt].find_all('dt')\n",
    "            if '締切' == soup_kobo_dt[0].text:\n",
    "                break\n",
    "        except IndexError as e:\n",
    "            break\n",
    "        while_cnt += 1\n",
    "    \n",
    "    soup_kobo_dd = soup_kobo_dl[while_cnt].find_all('dd')\n",
    "    \n",
    "    kobo_info = {}\n",
    "    \n",
    "    # タイトルを追加\n",
    "    kobo_title = soup_li[n].find_all('h3')\n",
    "    kobo_title = kobo_title[0].text.replace('\\u3000', '')\n",
    "    kobo_info.setdefault('タイトル', kobo_title)\n",
    "    \n",
    "    # 応募リンクを追加\n",
    "    obo_link = ''\n",
    "    # 川柳の詳細ページのHTML要素の<a>タグのclass='btn-koushiki'の要素を取得\n",
    "    obo_link = soup_kobo.find_all('a', attrs={'class': 'btn-koushiki'})\n",
    "    obo_link = obo_link[0].get('href')\n",
    "    # 応募リンクをkobo_infoに追加\n",
    "    kobo_info.setdefault('応募リンク', obo_link)\n",
    "    \n",
    "    # 公募概要情報の取得・配列に格納\n",
    "    for j in range(len(soup_kobo_dd)):\n",
    "        kobo_feature_title = soup_kobo_dt[j].text\n",
    "        kobo_feature_title = kobo_feature_title.replace('\\u3000', ' ')\n",
    "        \n",
    "        # 項目名をデータベースのカラム名に変換\n",
    "        if '締切' == kobo_feature_title:\n",
    "            kobo_feature_title = '締切日'\n",
    "        elif '賞' == kobo_feature_title:\n",
    "            kobo_feature_title = '賞金'\n",
    "        elif '募集内容' == kobo_feature_title:\n",
    "            kobo_feature_title = '募集内容'\n",
    "        elif '参加資格' == kobo_feature_title:\n",
    "            kobo_feature_title = '応募資格'\n",
    "        elif '主催' == kobo_feature_title:\n",
    "            kobo_feature_title = '主催'\n",
    "        else:\n",
    "            continue\n",
    "        \n",
    "        # HTML要素のテキストだけを取り出す\n",
    "        kobo_feature = soup_kobo_dd[j].text.replace('\\u3000', ' ')\n",
    "        kobo_feature = kobo_feature.replace('\\n', '')\n",
    "        kobo_feature = kobo_feature.replace('\\t', '')\n",
    "        kobo_feature = kobo_feature.replace('\\r', '')\n",
    "        kobo_info.setdefault(kobo_feature_title, kobo_feature)\n",
    "        \n",
    "    # kobo_infoの中身を並び替える\n",
    "    kobo_sort = {}\n",
    "    kobo_sort.setdefault('タイトル', kobo_info['タイトル'])\n",
    "    kobo_sort.setdefault('締切日', kobo_info['締切日'])\n",
    "    kobo_sort.setdefault('賞金', kobo_info['賞金'])\n",
    "    kobo_sort.setdefault('募集内容', kobo_info['募集内容'])\n",
    "    kobo_sort.setdefault('応募資格', kobo_info['応募資格'])\n",
    "    kobo_sort.setdefault('主催', kobo_info['主催'])\n",
    "    kobo_sort.setdefault('応募リンク', kobo_info['応募リンク'])\n",
    "    \n",
    "    # 公募情報を配列に格納\n",
    "    # kobo_title = soup_li[n].find_all('h3')\n",
    "    # kobo_title = kobo_title[0].text.replace('\\u3000', '')\n",
    "    # kobo_info_dict.setdefault(kobo_title, kobo_info)\n",
    "    \n",
    "    kobo_info_list.append(kobo_sort)\n",
    "    \n",
    "    # サーバへの負荷を下げるためにsleep\n",
    "    time.sleep(3)"
   ]
  },
  {
   "cell_type": "code",
   "execution_count": 36,
   "id": "dddeb1a4-f98e-459d-83f8-4c5ce04ab146",
   "metadata": {},
   "outputs": [],
   "source": [
    "# 確認用\n",
    "# kobo_sort"
   ]
  },
  {
   "cell_type": "code",
   "execution_count": 37,
   "id": "e4f2d8dd-19a5-4534-ae01-ee859350bc59",
   "metadata": {},
   "outputs": [],
   "source": [
    "# 確認用\n",
    "# kobo_info_list"
   ]
  },
  {
   "cell_type": "code",
   "execution_count": 33,
   "id": "5f83678a-9e11-44b5-8d54-b5850d17bd44",
   "metadata": {},
   "outputs": [],
   "source": [
    "# csvで出力\n",
    "import pandas as pd\n",
    "\n",
    "df = pd.DataFrame(kobo_info_list)\n",
    "\n",
    "# excelで文字化けしないようにutf_8_sigでエンコード\n",
    "df.to_csv('kobo_scraping.csv', encoding='utf_8_sig', index = False)"
   ]
  },
  {
   "cell_type": "code",
   "execution_count": 36,
   "id": "5a71c94f-cd21-47eb-8757-95722f58accb",
   "metadata": {},
   "outputs": [],
   "source": [
    "# kobo_info_list"
   ]
  },
  {
   "cell_type": "code",
   "execution_count": 37,
   "id": "30c1e91f-fb91-46b1-b882-80d47acb0835",
   "metadata": {},
   "outputs": [],
   "source": [
    "# df_read = pd.read_csv('kobo_scraping.csv', index_col=0)\n",
    "# df_read"
   ]
  },
  {
   "cell_type": "code",
   "execution_count": null,
   "id": "18f55b95-3f56-4fa5-83a2-2dc8a3a417fa",
   "metadata": {},
   "outputs": [],
   "source": []
  }
 ],
 "metadata": {
  "kernelspec": {
   "display_name": "Python 3 (ipykernel)",
   "language": "python",
   "name": "python3"
  },
  "language_info": {
   "codemirror_mode": {
    "name": "ipython",
    "version": 3
   },
   "file_extension": ".py",
   "mimetype": "text/x-python",
   "name": "python",
   "nbconvert_exporter": "python",
   "pygments_lexer": "ipython3",
   "version": "3.9.7"
  }
 },
 "nbformat": 4,
 "nbformat_minor": 5
}
