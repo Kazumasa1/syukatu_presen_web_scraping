{
 "cells": [
  {
   "cell_type": "code",
   "execution_count": 1,
   "id": "648c4de9-e096-436a-af43-ff1f9f590c67",
   "metadata": {},
   "outputs": [],
   "source": [
    "import requests\n",
    "import KOBO_URL\n",
    "import time\n",
    "from bs4 import BeautifulSoup\n",
    "\n",
    "url1 = KOBO_URL.KOBO_URL1\n",
    "res = requests.get(url1)\n",
    "soup = BeautifulSoup(res.text, 'html.parser')\n",
    "soup_li = soup.find_all('li', attrs={'class': 'contest-list-item'})\n",
    "soup_h3 = soup_li[0].find_all('h3')\n",
    "\n",
    "soup_a = soup_li[0].find('a')\n",
    "soup_a = soup_a.get('href')\n",
    "\n",
    "link_list = []\n",
    "for n in range(22):\n",
    "    soup_a = soup_li[n].find('a')\n",
    "    soup_a = soup_a.get('href')\n",
    "    link_list.append(soup_a)\n",
    "    \n",
    "kobo_url = link_list[0]\n",
    "res_kobo = requests.get(kobo_url)\n",
    "soup_kobo = BeautifulSoup(res_kobo.text, 'html.parser')\n",
    "soup_kobo_dl = soup_kobo.find_all('dl')\n",
    "\n",
    "soup_kobo_dt = soup_kobo_dl[2].find_all('dt')\n",
    "soup_kobo_dd = soup_kobo_dl[2].find_all('dd')\n",
    "\n",
    "kobo_title = soup_kobo_dt[0].text\n",
    "kobo_feature = soup_kobo_dd[0].text.replace('\\n', '')\n",
    "kobo_feature = kobo_feature.replace('\\t', '')\n",
    "\n",
    "kobo_title_list = []\n",
    "kobo_feature_list = []\n",
    "\n",
    "kobo_title_list.append(kobo_title)\n",
    "kobo_feature_list.append(kobo_feature)\n",
    "\n",
    "for n in range(len(soup_kobo_dd)):\n",
    "    kobo_title = soup_kobo_dt[n].text\n",
    "    kobo_feature = soup_kobo_dd[n].text.replace('\\n', '')\n",
    "    kobo_feature = kobo_feature.replace('\\t', '')\n",
    "    kobo_title_list.append(kobo_title)\n",
    "    kobo_feature_list.append(kobo_feature)\n",
    "    \n",
    "kobo_info = {}\n",
    "\n",
    "for n in range(len(soup_kobo_dd)):\n",
    "    kobo_feature_title = soup_kobo_dt[n].text\n",
    "    kobo_feature = soup_kobo_dd[n].text.replace('\\n', '')\n",
    "    kobo_feature = kobo_feature.replace('\\t', '')\n",
    "    kobo_feature = kobo_feature.replace('\\u3000', ' ')\n",
    "    # kobo_info.setdefault(soup_kobo_dt[n].text, kobo_feature)\n",
    "    kobo_info.setdefault(kobo_feature_title, kobo_feature)\n",
    "\n",
    "\n",
    "kobo_info_dict = {}\n",
    "\n",
    "for n in range(len(link_list)):\n",
    "# for n in range(2):\n",
    "    # 情報を取得する公募ページに移動してHTTPを取得\n",
    "    kobo_url = link_list[n]\n",
    "    res_kobo = requests.get(kobo_url)\n",
    "    soup_kobo = BeautifulSoup(res_kobo.text, 'html.parser')\n",
    "    soup_kobo_dl = soup_kobo.find_all('dl')\n",
    "    soup_kobo_dt = soup_kobo_dl[2].find_all('dt')\n",
    "    soup_kobo_dd = soup_kobo_dl[2].find_all('dd')\n",
    "    \n",
    "    kobo_info = {}\n",
    "    # 公募概要情報の取得・配列に格納\n",
    "    for j in range(len(soup_kobo_dd)):\n",
    "        kobo_feature_title = soup_kobo_dt[j].text\n",
    "        kobo_feature_title = kobo_feature_title.replace('\\u3000', ' ')\n",
    "        kobo_feature = soup_kobo_dd[j].text.replace('\\n', '')\n",
    "        kobo_feature = kobo_feature.replace('\\t', '')\n",
    "        kobo_info.setdefault(kobo_feature_title, kobo_feature)\n",
    "    \n",
    "    # 公募情報を配列に格納\n",
    "    kobo_title = soup_li[n].find_all('h3')\n",
    "    kobo_title = kobo_title[0].text.replace('\\u3000', '')\n",
    "    \n",
    "    \n",
    "    kobo_info_dict.setdefault(kobo_title, kobo_info)\n",
    "    \n",
    "    \n",
    "    \n",
    "    # サーバへの負荷を下げるためにsleep\n",
    "    # time.sleep(3)"
   ]
  },
  {
   "cell_type": "code",
   "execution_count": 13,
   "id": "89742139-0ce3-4a29-bab0-4c4bee64dc72",
   "metadata": {},
   "outputs": [],
   "source": [
    "# kobo_info"
   ]
  },
  {
   "cell_type": "code",
   "execution_count": 14,
   "id": "797d3fce-a367-4892-a978-05663c5dca34",
   "metadata": {},
   "outputs": [],
   "source": [
    "# print(list(kobo_info_dict.keys()))"
   ]
  },
  {
   "cell_type": "code",
   "execution_count": 4,
   "id": "a5dd059a-49f2-4407-9a3d-04a62d7b93a3",
   "metadata": {},
   "outputs": [],
   "source": [
    "dict_index = []\n",
    "dict_index = list(kobo_info_dict.keys())"
   ]
  },
  {
   "cell_type": "code",
   "execution_count": 15,
   "id": "ea14aa59-f87e-4f42-8ac5-2edfa33ff6d8",
   "metadata": {},
   "outputs": [],
   "source": [
    "# dict_index"
   ]
  },
  {
   "cell_type": "code",
   "execution_count": 16,
   "id": "bebf35f9-59a3-483e-9d3a-007ba7bda896",
   "metadata": {},
   "outputs": [],
   "source": [
    "# kobo_info_dict[dict_index[0]]"
   ]
  },
  {
   "cell_type": "code",
   "execution_count": 12,
   "id": "dffc1562-8e91-4ad8-8c89-8330e607af1a",
   "metadata": {},
   "outputs": [
    {
     "data": {
      "text/plain": [
       "'2022年02月05日 (土)作品提出・応募締切、必着'"
      ]
     },
     "execution_count": 12,
     "metadata": {},
     "output_type": "execute_result"
    }
   ],
   "source": [
    "kobo_info_dict[dict_index[0]]['締切']"
   ]
  },
  {
   "cell_type": "code",
   "execution_count": null,
   "id": "6d6e6d24-1209-43b6-8ac3-467a7f66da94",
   "metadata": {},
   "outputs": [],
   "source": [
    "query_list = []\n",
    "query_dict = {}"
   ]
  },
  {
   "cell_type": "code",
   "execution_count": null,
   "id": "4f9b8168-5c61-4435-acf5-f2bb571ea53f",
   "metadata": {},
   "outputs": [],
   "source": []
  },
  {
   "cell_type": "code",
   "execution_count": null,
   "id": "7f05e07e-d23a-428a-91fb-2f240dfaa62d",
   "metadata": {},
   "outputs": [],
   "source": []
  },
  {
   "cell_type": "code",
   "execution_count": null,
   "id": "019f86b6-4127-4cee-ace9-d9a3bde218a0",
   "metadata": {},
   "outputs": [],
   "source": []
  },
  {
   "cell_type": "code",
   "execution_count": null,
   "id": "b35aeb31-73ee-433d-8abf-dfd7735780df",
   "metadata": {},
   "outputs": [],
   "source": []
  },
  {
   "cell_type": "code",
   "execution_count": 15,
   "id": "4f64f0db-96cf-49f3-8912-0fe410f45809",
   "metadata": {},
   "outputs": [],
   "source": [
    "kobo_info_dict[]"
   ]
  },
  {
   "cell_type": "code",
   "execution_count": 4,
   "id": "a7f552df-4b9a-48aa-b916-047d4e757108",
   "metadata": {},
   "outputs": [],
   "source": [
    "import requests\n",
    "import KOBO_URL\n",
    "import time\n",
    "from bs4 import BeautifulSoup\n",
    "\n",
    "url1 = KOBO_URL.KOBO_URL1\n",
    "res = requests.get(url1)\n",
    "soup = BeautifulSoup(res.text, 'html.parser')\n",
    "soup_li = soup.find_all('li', attrs={'class': 'contest-list-item'})\n",
    "soup_h3 = soup_li[0].find_all('h3')\n",
    "\n",
    "soup_a = soup_li[0].find('a')\n",
    "soup_a = soup_a.get('href')\n",
    "\n",
    "link_list = []\n",
    "for n in range(22):\n",
    "    soup_a = soup_li[n].find('a')\n",
    "    soup_a = soup_a.get('href')\n",
    "    link_list.append(soup_a)\n",
    "    \n",
    "kobo_url = link_list[0]\n",
    "res_kobo = requests.get(kobo_url)\n",
    "soup_kobo = BeautifulSoup(res_kobo.text, 'html.parser')\n",
    "soup_kobo_dl = soup_kobo.find_all('dl')\n",
    "\n",
    "soup_kobo_dt = soup_kobo_dl[2].find_all('dt')\n",
    "soup_kobo_dd = soup_kobo_dl[2].find_all('dd')"
   ]
  },
  {
   "cell_type": "code",
   "execution_count": 17,
   "id": "f77e258f-53f1-4bff-a8fe-9cd6d8233a3d",
   "metadata": {},
   "outputs": [],
   "source": [
    "# soup_kobo_dt"
   ]
  },
  {
   "cell_type": "code",
   "execution_count": 18,
   "id": "b6a90f03-7ab2-40a2-8c64-ebc0e567ff77",
   "metadata": {},
   "outputs": [],
   "source": [
    "# soup_kobo_dd"
   ]
  },
  {
   "cell_type": "code",
   "execution_count": 17,
   "id": "0d9b44c1-75ab-434f-b2aa-adf5ab504e65",
   "metadata": {},
   "outputs": [],
   "source": [
    "# kobo_title = soup_kobo_dt[0].text\n",
    "# kobo_feature = soup_kobo_dd[0].text.replace('\\n', '')\n",
    "# kobo_feature = kobo_feature.replace('\\t', '')\n",
    "\n",
    "kobo_title_list = []\n",
    "kobo_feature_list = []\n",
    "\n",
    "kobo_title_list.append('タイトル')"
   ]
  },
  {
   "cell_type": "code",
   "execution_count": 8,
   "id": "8a615cfe-3536-45b8-a68b-9dbe15c9e28a",
   "metadata": {},
   "outputs": [],
   "source": [
    "for n in range(len(soup_kobo_dd)):\n",
    "    kobo_title = soup_kobo_dt[n].text\n",
    "    kobo_feature = soup_kobo_dd[n].text.replace('\\n', '')\n",
    "    kobo_feature = kobo_feature.replace('\\t', '')\n",
    "    kobo_title_list.append(kobo_title)\n",
    "    kobo_feature_list.append(kobo_feature)\n",
    "    "
   ]
  },
  {
   "cell_type": "code",
   "execution_count": 19,
   "id": "ae8641ba-aa72-47fd-8e44-a88b188cc2ec",
   "metadata": {},
   "outputs": [],
   "source": [
    "# kobo_title_list"
   ]
  },
  {
   "cell_type": "code",
   "execution_count": 20,
   "id": "4f000892-a4e7-4e09-89f4-ebbe4ca7c5b8",
   "metadata": {},
   "outputs": [],
   "source": [
    "# kobo_feature_list"
   ]
  },
  {
   "cell_type": "code",
   "execution_count": 11,
   "id": "ad154605-0f26-4afc-a45c-a5dbb335126d",
   "metadata": {},
   "outputs": [],
   "source": [
    "kobo_info = {}\n",
    "\n",
    "for n in range(len(soup_kobo_dd)):\n",
    "    kobo_feature_title = soup_kobo_dt[n].text\n",
    "    kobo_feature = soup_kobo_dd[n].text.replace('\\n', '')\n",
    "    kobo_feature = kobo_feature.replace('\\t', '')\n",
    "    kobo_feature = kobo_feature.replace('\\u3000', ' ')\n",
    "    # kobo_info.setdefault(soup_kobo_dt[n].text, kobo_feature)\n",
    "    kobo_info.setdefault(kobo_feature_title, kobo_feature)"
   ]
  },
  {
   "cell_type": "code",
   "execution_count": 21,
   "id": "e8f90ba5-d1c4-4984-bada-c091c269e601",
   "metadata": {},
   "outputs": [],
   "source": [
    "# kobo_info"
   ]
  },
  {
   "cell_type": "code",
   "execution_count": 13,
   "id": "5c381e13-52cc-4aba-8712-2459161fd3ce",
   "metadata": {},
   "outputs": [],
   "source": [
    "kobo_info_dict = {}\n",
    "\n",
    "for n in range(len(link_list)):\n",
    "# for n in range(2):\n",
    "    # 情報を取得する公募ページに移動してHTTPを取得\n",
    "    kobo_url = link_list[n]\n",
    "    res_kobo = requests.get(kobo_url)\n",
    "    soup_kobo = BeautifulSoup(res_kobo.text, 'html.parser')\n",
    "    soup_kobo_dl = soup_kobo.find_all('dl')\n",
    "    soup_kobo_dt = soup_kobo_dl[2].find_all('dt')\n",
    "    soup_kobo_dd = soup_kobo_dl[2].find_all('dd')\n",
    "    \n",
    "    kobo_info = {}\n",
    "    # 公募概要情報の取得・配列に格納\n",
    "    for j in range(len(soup_kobo_dd)):\n",
    "        kobo_feature_title = soup_kobo_dt[j].text\n",
    "        kobo_feature_title = kobo_feature_title.replace('\\u3000', ' ')\n",
    "        kobo_feature = soup_kobo_dd[j].text.replace('\\n', '')\n",
    "        kobo_feature = kobo_feature.replace('\\t', '')\n",
    "        kobo_info.setdefault(kobo_feature_title, kobo_feature)\n",
    "    \n",
    "    # 公募情報を配列に格納\n",
    "    kobo_title = soup_li[n].find_all('h3')\n",
    "    kobo_title = kobo_title[0].text.replace('\\u3000', '')\n",
    "    kobo_info_dict.setdefault(kobo_title, kobo_info)\n",
    "    \n",
    "    # サーバへの負荷を下げるためにsleep\n",
    "    time.sleep(3)"
   ]
  }
 ],
 "metadata": {
  "kernelspec": {
   "display_name": "Python 3 (ipykernel)",
   "language": "python",
   "name": "python3"
  },
  "language_info": {
   "codemirror_mode": {
    "name": "ipython",
    "version": 3
   },
   "file_extension": ".py",
   "mimetype": "text/x-python",
   "name": "python",
   "nbconvert_exporter": "python",
   "pygments_lexer": "ipython3",
   "version": "3.9.7"
  }
 },
 "nbformat": 4,
 "nbformat_minor": 5
}
