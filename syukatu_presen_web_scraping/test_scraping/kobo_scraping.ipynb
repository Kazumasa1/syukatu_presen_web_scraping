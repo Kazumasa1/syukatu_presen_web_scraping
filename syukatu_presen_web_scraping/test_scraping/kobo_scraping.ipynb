{
 "cells": [
  {
   "cell_type": "code",
   "execution_count": 1,
   "id": "648c4de9-e096-436a-af43-ff1f9f590c67",
   "metadata": {},
   "outputs": [],
   "source": [
    "import requests\n",
    "from bs4 import BeautifulSoup"
   ]
  },
  {
   "cell_type": "code",
   "execution_count": 2,
   "id": "d9b1f084-0bc9-47ef-97c5-41fb67e9bf29",
   "metadata": {},
   "outputs": [
    {
     "name": "stdout",
     "output_type": "stream",
     "text": [
      "https://compe.japandesign.ne.jp/category/senryu/\n",
      "https://www.koubo.co.jp/contest/list/senryu/\n"
     ]
    }
   ],
   "source": [
    "import KOBO_URL\n",
    "\n",
    "print(KOBO_URL.KOBO_URL1)\n",
    "print(KOBO_URL.KOBO_URL2)"
   ]
  },
  {
   "cell_type": "code",
   "execution_count": null,
   "id": "58f992ea-2418-4625-9a9f-553a79cac128",
   "metadata": {},
   "outputs": [],
   "source": []
  },
  {
   "cell_type": "code",
   "execution_count": null,
   "id": "31add179-bc0f-413f-866b-7ebe0a824d4c",
   "metadata": {},
   "outputs": [],
   "source": [
    "url = 'https://compe.japandesign.ne.jp/category/senryu/'\n",
    "res = requests.get(url)\n",
    "res"
   ]
  },
  {
   "cell_type": "code",
   "execution_count": null,
   "id": "ee61c6e9-fdbc-40e4-865f-aeca1f95c179",
   "metadata": {},
   "outputs": [],
   "source": [
    "import os\n",
    "os.getcwd()"
   ]
  },
  {
   "cell_type": "code",
   "execution_count": null,
   "id": "81af1fc9-1dde-4ae8-8dbc-68aebb5c9b6f",
   "metadata": {},
   "outputs": [],
   "source": [
    "import csv\n",
    "with open('http://localhost:8889/lab/tree/test_scraping/sample_writer_row.csv', 'w') as f:\n",
    "    writer = csv.writer(f)\n",
    "    writer.writerow([0, 1, 2])\n",
    "    writer.writerow(['a', 'b', 'c'])"
   ]
  },
  {
   "cell_type": "code",
   "execution_count": null,
   "id": "3ab9b53f-85f3-4fb7-a287-18d5a8f52861",
   "metadata": {},
   "outputs": [],
   "source": []
  }
 ],
 "metadata": {
  "kernelspec": {
   "display_name": "Python 3 (ipykernel)",
   "language": "python",
   "name": "python3"
  },
  "language_info": {
   "codemirror_mode": {
    "name": "ipython",
    "version": 3
   },
   "file_extension": ".py",
   "mimetype": "text/x-python",
   "name": "python",
   "nbconvert_exporter": "python",
   "pygments_lexer": "ipython3",
   "version": "3.9.7"
  }
 },
 "nbformat": 4,
 "nbformat_minor": 5
}
