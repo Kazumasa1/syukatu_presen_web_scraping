{
 "cells": [
  {
   "cell_type": "code",
   "execution_count": 13,
   "id": "a3cdcf90-ea23-4c4f-bc56-e7da08b2ab40",
   "metadata": {},
   "outputs": [
    {
     "name": "stdout",
     "output_type": "stream",
     "text": [
      "test\n"
     ]
    }
   ],
   "source": [
    "import KOBO_URL\n",
    "\n",
    "print(KOBO_URL.KOBO_URL)"
   ]
  },
  {
   "cell_type": "code",
   "execution_count": null,
   "id": "28883914-fd69-412d-82fb-41f8b0f9a3ea",
   "metadata": {},
   "outputs": [],
   "source": []
  }
 ],
 "metadata": {
  "kernelspec": {
   "display_name": "Python 3 (ipykernel)",
   "language": "python",
   "name": "python3"
  },
  "language_info": {
   "codemirror_mode": {
    "name": "ipython",
    "version": 3
   },
   "file_extension": ".py",
   "mimetype": "text/x-python",
   "name": "python",
   "nbconvert_exporter": "python",
   "pygments_lexer": "ipython3",
   "version": "3.8.12"
  }
 },
 "nbformat": 4,
 "nbformat_minor": 5
}
